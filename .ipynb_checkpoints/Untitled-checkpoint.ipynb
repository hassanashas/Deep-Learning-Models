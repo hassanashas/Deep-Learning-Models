{
 "cells": [
  {
   "cell_type": "code",
   "execution_count": 274,
   "id": "77b300cd",
   "metadata": {},
   "outputs": [],
   "source": [
    "import numpy as np\n",
    "import matplotlib.pyplot as plt \n",
    "import os\n",
    "import cv2\n",
    "import random \n",
    "import tensorflow as tf \n",
    "from tensorflow.keras.models import Sequential\n",
    "from tensorflow.keras.layers import Dense, Dropout, Activation, Flatten, Conv2D, MaxPooling2D"
   ]
  },
  {
   "cell_type": "code",
   "execution_count": 275,
   "id": "cb04003f",
   "metadata": {},
   "outputs": [
    {
     "name": "stdout",
     "output_type": "stream",
     "text": [
      "['airplanes', 'buddha', 'chair', 'dolphin', 'elephant', 'Faces', 'grand_piano', 'lobster', 'Motorbikes', 'octopus', 'panda', 'rhino', 'snoopy', 'strawberry', 'water_lilly']\n"
     ]
    }
   ],
   "source": [
    "f = open(\"class_names.txt\", \"r\")\n",
    "labels = []\n",
    "for x in f:\n",
    "    labels.append(x.rstrip(\"\\n\"))\n",
    "print(labels)"
   ]
  },
  {
   "cell_type": "code",
   "execution_count": 209,
   "id": "493fa7b0",
   "metadata": {},
   "outputs": [],
   "source": [
    "f = open(\"train_labels.txt\", \"r\")\n",
    "train_labels = []\n",
    "for x in f:\n",
    "    train_labels.append(x.rstrip(\"\\n\"))\n"
   ]
  },
  {
   "cell_type": "code",
   "execution_count": 254,
   "id": "eb4dc3b6",
   "metadata": {
    "scrolled": false
   },
   "outputs": [],
   "source": [
    "\n",
    "def create_training_data():\n",
    "    training_data = []\n",
    "    datadir = \"training_set/\"\n",
    "    for img, label in zip(os.listdir(datadir), train_labels):\n",
    "        try:\n",
    "            img_array = cv2.imread(os.path.join(datadir, img), cv2.IMREAD_GRAYSCALE)\n",
    "            new_array = cv2.resize(img_array, (50, 50))\n",
    "            training_data.append([new_array, label])\n",
    "        except Exception as e:\n",
    "            pass\n",
    "        #print(labels[int(label)-1])\n",
    "        #plt.imshow(img_array, cmap=\"gray\")\n",
    "        #plt.show()\n",
    "    return training_data\n",
    "training_data = create_training_data()\n"
   ]
  },
  {
   "cell_type": "code",
   "execution_count": 255,
   "id": "eb6ed0f1",
   "metadata": {},
   "outputs": [
    {
     "name": "stdout",
     "output_type": "stream",
     "text": [
      "224\n"
     ]
    }
   ],
   "source": [
    "print(len(training_data))"
   ]
  },
  {
   "cell_type": "code",
   "execution_count": 256,
   "id": "05796b35",
   "metadata": {},
   "outputs": [],
   "source": [
    "import random \n",
    "\n",
    "random.shuffle(training_data)"
   ]
  },
  {
   "cell_type": "code",
   "execution_count": 257,
   "id": "708f8968",
   "metadata": {},
   "outputs": [],
   "source": [
    "X_train = []\n",
    "y_train = []"
   ]
  },
  {
   "cell_type": "code",
   "execution_count": 258,
   "id": "c5161d91",
   "metadata": {},
   "outputs": [],
   "source": [
    "for features, labels in training_data:\n",
    "    X_train.append(features)\n",
    "    y_train.append(labels)\n",
    "\n",
    "X_train = np.array(X_train).reshape(-1, 50, 50, 1)\n",
    "y_train = np.array(y_train)\n",
    "y_train = y_train.astype(int)"
   ]
  },
  {
   "cell_type": "code",
   "execution_count": 259,
   "id": "816f3f18",
   "metadata": {},
   "outputs": [
    {
     "data": {
      "text/plain": [
       "((224, 227, 227, 3), (224,))"
      ]
     },
     "execution_count": 259,
     "metadata": {},
     "output_type": "execute_result"
    }
   ],
   "source": [
    "X_train.shape, y_train.shape"
   ]
  },
  {
   "cell_type": "code",
   "execution_count": 177,
   "id": "f2dcae39",
   "metadata": {},
   "outputs": [],
   "source": [
    "X_train = X_train/255.0\n",
    "model = Sequential()\n",
    "\n",
    "model.add(Conv2D(64, (3, 3), input_shape = X_train.shape[1:]))\n",
    "model.add(Activation(\"relu\"))\n",
    "model.add(MaxPooling2D(pool_size=(2, 2)))\n",
    "\n",
    "model.add(Conv2D(128, (3, 3)))\n",
    "model.add(Activation(\"relu\"))\n",
    "model.add(MaxPooling2D(pool_size=(2, 2)))\n",
    "\n",
    "model.add(Flatten())\n",
    "model.add(Dense(64))\n",
    "\n",
    "model.add(Dense(16))\n",
    "model.add(Activation('softmax'))\n"
   ]
  },
  {
   "cell_type": "code",
   "execution_count": 178,
   "id": "765dfa61",
   "metadata": {},
   "outputs": [],
   "source": [
    "from tensorflow.keras.optimizers import SGD\n",
    "\n",
    "model.compile(loss='sparse_categorical_crossentropy', \n",
    "             optimizer=SGD(learning_rate=0.01), \n",
    "             metrics=['accuracy'])"
   ]
  },
  {
   "cell_type": "code",
   "execution_count": 179,
   "id": "01a62ceb",
   "metadata": {},
   "outputs": [
    {
     "name": "stdout",
     "output_type": "stream",
     "text": [
      "Epoch 1/30\n",
      "13/13 [==============================] - 4s 243ms/step - loss: 2.7593 - accuracy: 0.0447 - val_loss: 2.7425 - val_accuracy: 0.0222\n",
      "Epoch 2/30\n",
      "13/13 [==============================] - 2s 169ms/step - loss: 2.7207 - accuracy: 0.0769 - val_loss: 2.7335 - val_accuracy: 0.0222\n",
      "Epoch 3/30\n",
      "13/13 [==============================] - 2s 172ms/step - loss: 2.6973 - accuracy: 0.0968 - val_loss: 2.7077 - val_accuracy: 0.1111\n",
      "Epoch 4/30\n",
      "13/13 [==============================] - 2s 174ms/step - loss: 2.6747 - accuracy: 0.1117 - val_loss: 2.6833 - val_accuracy: 0.0889\n",
      "Epoch 5/30\n",
      "13/13 [==============================] - 2s 173ms/step - loss: 2.6463 - accuracy: 0.1141 - val_loss: 2.6591 - val_accuracy: 0.1556\n",
      "Epoch 6/30\n",
      "13/13 [==============================] - 3s 193ms/step - loss: 2.6247 - accuracy: 0.1365 - val_loss: 2.6315 - val_accuracy: 0.1111\n",
      "Epoch 7/30\n",
      "13/13 [==============================] - 2s 172ms/step - loss: 2.6037 - accuracy: 0.1638 - val_loss: 2.6329 - val_accuracy: 0.1111\n",
      "Epoch 8/30\n",
      "13/13 [==============================] - 2s 174ms/step - loss: 2.5703 - accuracy: 0.1787 - val_loss: 2.5574 - val_accuracy: 0.2222\n",
      "Epoch 9/30\n",
      "13/13 [==============================] - 2s 172ms/step - loss: 2.5321 - accuracy: 0.2233 - val_loss: 2.5276 - val_accuracy: 0.2222\n",
      "Epoch 10/30\n",
      "13/13 [==============================] - 2s 167ms/step - loss: 2.5007 - accuracy: 0.2357 - val_loss: 2.4858 - val_accuracy: 0.2222\n",
      "Epoch 11/30\n",
      "13/13 [==============================] - 2s 171ms/step - loss: 2.4648 - accuracy: 0.2109 - val_loss: 2.4046 - val_accuracy: 0.3556\n",
      "Epoch 12/30\n",
      "13/13 [==============================] - 2s 171ms/step - loss: 2.3925 - accuracy: 0.2680 - val_loss: 2.4634 - val_accuracy: 0.2222\n",
      "Epoch 13/30\n",
      "13/13 [==============================] - 2s 165ms/step - loss: 2.3630 - accuracy: 0.2481 - val_loss: 2.4654 - val_accuracy: 0.2000\n",
      "Epoch 14/30\n",
      "13/13 [==============================] - 2s 165ms/step - loss: 2.3200 - accuracy: 0.2506 - val_loss: 2.2964 - val_accuracy: 0.3111\n",
      "Epoch 15/30\n",
      "13/13 [==============================] - 2s 166ms/step - loss: 2.2472 - accuracy: 0.3002 - val_loss: 2.2147 - val_accuracy: 0.3333\n",
      "Epoch 16/30\n",
      "13/13 [==============================] - 2s 164ms/step - loss: 2.2338 - accuracy: 0.3151 - val_loss: 2.2230 - val_accuracy: 0.2889\n",
      "Epoch 17/30\n",
      "13/13 [==============================] - 2s 164ms/step - loss: 2.1663 - accuracy: 0.3499 - val_loss: 2.1770 - val_accuracy: 0.3556\n",
      "Epoch 18/30\n",
      "13/13 [==============================] - 2s 163ms/step - loss: 2.2317 - accuracy: 0.3226 - val_loss: 2.0849 - val_accuracy: 0.3556\n",
      "Epoch 19/30\n",
      "13/13 [==============================] - 2s 171ms/step - loss: 2.1147 - accuracy: 0.3548 - val_loss: 2.0898 - val_accuracy: 0.3778\n",
      "Epoch 20/30\n",
      "13/13 [==============================] - 2s 173ms/step - loss: 2.0364 - accuracy: 0.4094 - val_loss: 2.0932 - val_accuracy: 0.3778\n",
      "Epoch 21/30\n",
      "13/13 [==============================] - 3s 258ms/step - loss: 1.9666 - accuracy: 0.4417 - val_loss: 1.9236 - val_accuracy: 0.4444\n",
      "Epoch 22/30\n",
      "13/13 [==============================] - 4s 286ms/step - loss: 1.9881 - accuracy: 0.3871 - val_loss: 2.1832 - val_accuracy: 0.2889\n",
      "Epoch 23/30\n",
      "13/13 [==============================] - 2s 176ms/step - loss: 1.9323 - accuracy: 0.4467 - val_loss: 1.8971 - val_accuracy: 0.4444\n",
      "Epoch 24/30\n",
      "13/13 [==============================] - 2s 169ms/step - loss: 1.7887 - accuracy: 0.4789 - val_loss: 1.7815 - val_accuracy: 0.5333\n",
      "Epoch 25/30\n",
      "13/13 [==============================] - 2s 174ms/step - loss: 1.9010 - accuracy: 0.4243 - val_loss: 1.8103 - val_accuracy: 0.5333\n",
      "Epoch 26/30\n",
      "13/13 [==============================] - 3s 207ms/step - loss: 1.8450 - accuracy: 0.5012 - val_loss: 1.8431 - val_accuracy: 0.4889\n",
      "Epoch 27/30\n",
      "13/13 [==============================] - 3s 206ms/step - loss: 1.7074 - accuracy: 0.5062 - val_loss: 1.8308 - val_accuracy: 0.4889\n",
      "Epoch 28/30\n",
      "13/13 [==============================] - 3s 238ms/step - loss: 1.6553 - accuracy: 0.5509 - val_loss: 1.7953 - val_accuracy: 0.4667\n",
      "Epoch 29/30\n",
      "13/13 [==============================] - 3s 202ms/step - loss: 1.5467 - accuracy: 0.5806 - val_loss: 1.6645 - val_accuracy: 0.4667\n",
      "Epoch 30/30\n",
      "13/13 [==============================] - 3s 229ms/step - loss: 1.5386 - accuracy: 0.5434 - val_loss: 1.6185 - val_accuracy: 0.4667\n"
     ]
    }
   ],
   "source": [
    "model_fit = model.fit(X, y, batch_size=32, epochs=30, validation_split=0.1)"
   ]
  },
  {
   "cell_type": "code",
   "execution_count": 180,
   "id": "a5c4467a",
   "metadata": {},
   "outputs": [],
   "source": [
    "f = open(\"test_labels.txt\", \"r\")\n",
    "test_labels = []\n",
    "for x in f:\n",
    "    test_labels.append(x.rstrip(\"\\n\"))"
   ]
  },
  {
   "cell_type": "code",
   "execution_count": 266,
   "id": "4271da97",
   "metadata": {},
   "outputs": [],
   "source": [
    "\n",
    "def create_testing_data():\n",
    "    testing_data = []\n",
    "    datadir = \"test_set/\"\n",
    "    for img, label in zip(os.listdir(datadir), test_labels):\n",
    "        try:\n",
    "            img_array = cv2.imread(os.path.join(datadir, img), cv2.IMREAD_GRAYSCALE)\n",
    "            new_array = cv2.resize(img_array, (50, 50))\n",
    "            testing_data.append([new_array, label])\n",
    "        except Exception as e:\n",
    "            pass\n",
    "        #print(labels[int(label)-1])\n",
    "        #plt.imshow(img_array, cmap=\"gray\")\n",
    "        #plt.show()        \n",
    "    return testing_data\n",
    "testing_data = create_testing_data()\n"
   ]
  },
  {
   "cell_type": "code",
   "execution_count": 267,
   "id": "6ee1ba0e",
   "metadata": {},
   "outputs": [
    {
     "name": "stdout",
     "output_type": "stream",
     "text": [
      "149\n"
     ]
    }
   ],
   "source": [
    "print(len(testing_data))"
   ]
  },
  {
   "cell_type": "code",
   "execution_count": 269,
   "id": "592103cc",
   "metadata": {},
   "outputs": [],
   "source": [
    "X_test = []\n",
    "y_test = []\n",
    "for features, labels in testing_data:\n",
    "    X_test.append(features)\n",
    "    y_test.append(labels)\n",
    "\n",
    "X_test = np.array(X_test).reshape(-1, 50, 50, 1)\n",
    "y_test = np.array(y_test)\n",
    "y_test = y_test.astype(int)"
   ]
  },
  {
   "cell_type": "code",
   "execution_count": 270,
   "id": "65ec08c2",
   "metadata": {},
   "outputs": [],
   "source": [
    "X_test = X_test / 255.0"
   ]
  },
  {
   "cell_type": "code",
   "execution_count": 271,
   "id": "60d6f8ee",
   "metadata": {},
   "outputs": [
    {
     "data": {
      "text/plain": [
       "((149, 227, 227, 3), (149,))"
      ]
     },
     "execution_count": 271,
     "metadata": {},
     "output_type": "execute_result"
    }
   ],
   "source": [
    "X_test.shape, y_test.shape"
   ]
  },
  {
   "cell_type": "code",
   "execution_count": 186,
   "id": "24a80dfe",
   "metadata": {},
   "outputs": [
    {
     "name": "stdout",
     "output_type": "stream",
     "text": [
      "5/5 [==============================] - 1s 56ms/step - loss: 2.3588 - accuracy: 0.3221\n"
     ]
    },
    {
     "data": {
      "text/plain": [
       "[2.358769178390503, 0.3221476376056671]"
      ]
     },
     "execution_count": 186,
     "metadata": {},
     "output_type": "execute_result"
    }
   ],
   "source": [
    "model.evaluate(X_test, y_test)"
   ]
  },
  {
   "cell_type": "markdown",
   "id": "eee20d11",
   "metadata": {},
   "source": [
    "## LeNet CNN"
   ]
  },
  {
   "cell_type": "markdown",
   "id": "7644bb51",
   "metadata": {},
   "source": [
    "## AlexNet CNN "
   ]
  },
  {
   "cell_type": "code",
   "execution_count": null,
   "id": "412f301d",
   "metadata": {},
   "outputs": [],
   "source": [
    "def create_training_data():\n",
    "    training_data = []\n",
    "    datadir = \"training_set/\"\n",
    "    for img, label in zip(os.listdir(datadir), train_labels):\n",
    "        try:\n",
    "            img_array = cv2.imread(os.path.join(datadir, img), cv2.IMREAD_GRAYSCALE)\n",
    "            new_array = cv2.resize(img_array, (50, 50))\n",
    "            training_data.append([new_array, label])\n",
    "        except Exception as e:\n",
    "            pass\n",
    "        #print(labels[int(label)-1])\n",
    "        #plt.imshow(img_array, cmap=\"gray\")\n",
    "        #plt.show()\n",
    "    return training_data\n",
    "training_data = create_training_data()\n"
   ]
  },
  {
   "cell_type": "code",
   "execution_count": null,
   "id": "3d442bab",
   "metadata": {},
   "outputs": [],
   "source": [
    "random.shuffle(training_data)\n",
    "\n",
    "X_train = []\n",
    "y_train = []\n",
    "\n",
    "for features, labels in training_data:\n",
    "    X_train.append(features)\n",
    "    y_train.append(labels)\n",
    "\n",
    "X_train = np.array(X_train).reshape(-1, 227, 227, 3)\n",
    "y_train = np.array(y_train)\n",
    "y_train = y_train.astype(int)"
   ]
  },
  {
   "cell_type": "code",
   "execution_count": null,
   "id": "761effba",
   "metadata": {},
   "outputs": [],
   "source": [
    "def create_testing_data():\n",
    "    testing_data = []\n",
    "    datadir = \"test_set/\"\n",
    "    for img, label in zip(os.listdir(datadir), test_labels):\n",
    "        try:\n",
    "            img_array = cv2.imread(os.path.join(datadir, img))\n",
    "            new_array = cv2.resize(img_array, (227, 227))\n",
    "            testing_data.append([new_array, label])\n",
    "        except Exception as e:\n",
    "            pass\n",
    "    \n",
    "    X_test = []\n",
    "    y_test = []\n",
    "    for features, labels in testing_data:\n",
    "        X_test.append(features)\n",
    "        y_test.append(labels)\n",
    "\n",
    "    X_test = np.array(X_test).reshape(-1, 227, 227, 3)\n",
    "    y_test = np.array(y_test)\n",
    "    y_test = y_test.astype(int)\n",
    "    \n",
    "    return X_test, y_test\n",
    "\n",
    "X_test, y_test = create_testing_data()\n"
   ]
  },
  {
   "cell_type": "code",
   "execution_count": 191,
   "id": "f9aacf88",
   "metadata": {},
   "outputs": [],
   "source": [
    "from tensorflow.keras.layers import BatchNormalization"
   ]
  },
  {
   "cell_type": "code",
   "execution_count": 197,
   "id": "6a2fea3d",
   "metadata": {},
   "outputs": [],
   "source": [
    "image_shape = (227, 227, 3)\n",
    "\n",
    "# (3) Create a sequential model\n",
    "model = Sequential()\n",
    "\n",
    "# 1st Convolutional Layer\n",
    "model.add(Conv2D(filters=96, input_shape=(227,227,3), kernel_size=(11,11),\\\n",
    " strides=(4,4), padding='valid'))\n",
    "model.add(Activation('relu'))\n",
    "# Pooling \n",
    "model.add(MaxPooling2D(pool_size=(2,2), strides=(2,2), padding='valid'))\n",
    "# Batch Normalisation before passing it to the next layer\n",
    "model.add(BatchNormalization())\n",
    "\n",
    "# 2nd Convolutional Layer\n",
    "model.add(Conv2D(filters=256, kernel_size=(11,11), strides=(1,1), padding='valid'))\n",
    "model.add(Activation('relu'))\n",
    "# Pooling\n",
    "model.add(MaxPooling2D(pool_size=(2,2), strides=(2,2), padding='valid'))\n",
    "# Batch Normalisation\n",
    "model.add(BatchNormalization())\n",
    "\n",
    "# 3rd Convolutional Layer\n",
    "model.add(Conv2D(filters=384, kernel_size=(3,3), strides=(1,1), padding='valid'))\n",
    "model.add(Activation('relu'))\n",
    "# Batch Normalisation\n",
    "model.add(BatchNormalization())\n",
    "\n",
    "# 4th Convolutional Layer\n",
    "model.add(Conv2D(filters=384, kernel_size=(3,3), strides=(1,1), padding='valid'))\n",
    "model.add(Activation('relu'))\n",
    "# Batch Normalisation\n",
    "model.add(BatchNormalization())\n",
    "\n",
    "# 5th Convolutional Layer\n",
    "model.add(Conv2D(filters=256, kernel_size=(3,3), strides=(1,1), padding='valid'))\n",
    "model.add(Activation('relu'))\n",
    "# Pooling\n",
    "model.add(MaxPooling2D(pool_size=(2,2), strides=(2,2), padding='valid'))\n",
    "# Batch Normalisation\n",
    "model.add(BatchNormalization())\n",
    "\n",
    "# Passing it to a dense layer\n",
    "model.add(Flatten())\n",
    "# 1st Dense Layer\n",
    "model.add(Dense(4096, input_shape=(224*224*3,)))\n",
    "model.add(Activation('relu'))\n",
    "# Add Dropout to prevent overfitting\n",
    "model.add(Dropout(0.4))\n",
    "# Batch Normalisation\n",
    "model.add(BatchNormalization())\n",
    "\n",
    "# 2nd Dense Layer\n",
    "model.add(Dense(4096))\n",
    "model.add(Activation('relu'))\n",
    "# Add Dropout\n",
    "model.add(Dropout(0.4))\n",
    "# Batch Normalisation\n",
    "model.add(BatchNormalization())\n",
    "\n",
    "# 3rd Dense Layer\n",
    "model.add(Dense(1000))\n",
    "model.add(Activation('relu'))\n",
    "# Add Dropout\n",
    "model.add(Dropout(0.4))\n",
    "# Batch Normalisation\n",
    "model.add(BatchNormalization())\n",
    "\n",
    "# Output Layer\n",
    "model.add(Dense(16))\n",
    "model.add(Activation('softmax'))\n",
    "\n",
    "#model.summary()\n",
    "\n",
    "model.compile(loss='sparse_categorical_crossentropy', optimizer='adam', metrics=['accuracy'])"
   ]
  },
  {
   "cell_type": "code",
   "execution_count": 261,
   "id": "c16d666c",
   "metadata": {},
   "outputs": [],
   "source": [
    "tf.config.run_functions_eagerly(True)"
   ]
  },
  {
   "cell_type": "code",
   "execution_count": 262,
   "id": "8a9f9939",
   "metadata": {
    "scrolled": false
   },
   "outputs": [
    {
     "name": "stderr",
     "output_type": "stream",
     "text": [
      "c:\\users\\hassan ashas\\appdata\\local\\programs\\python\\python39\\lib\\site-packages\\tensorflow\\python\\data\\ops\\dataset_ops.py:4526: UserWarning: Even though the `tf.config.experimental_run_functions_eagerly` option is set, this option does not apply to tf.data functions. To force eager execution of tf.data functions, please use `tf.data.experimental.enable_debug_mode()`.\n",
      "  warnings.warn(\n"
     ]
    },
    {
     "name": "stdout",
     "output_type": "stream",
     "text": [
      "Epoch 1/30\n",
      "7/7 [==============================] - 22s 3s/step - loss: 3.5727 - accuracy: 0.1343 - val_loss: 815.4660 - val_accuracy: 0.1304\n",
      "Epoch 2/30\n",
      "7/7 [==============================] - 22s 3s/step - loss: 3.0119 - accuracy: 0.2637 - val_loss: 1879.8782 - val_accuracy: 0.1304\n",
      "Epoch 3/30\n",
      "7/7 [==============================] - 22s 3s/step - loss: 2.6690 - accuracy: 0.2438 - val_loss: 4234.6992 - val_accuracy: 0.1304\n",
      "Epoch 4/30\n",
      "7/7 [==============================] - 22s 3s/step - loss: 2.2401 - accuracy: 0.3284 - val_loss: 1747.4380 - val_accuracy: 0.1304\n",
      "Epoch 5/30\n",
      "7/7 [==============================] - 26s 4s/step - loss: 2.1781 - accuracy: 0.3483 - val_loss: 866.7797 - val_accuracy: 0.1304\n",
      "Epoch 6/30\n",
      "7/7 [==============================] - 30s 4s/step - loss: 2.1344 - accuracy: 0.3134 - val_loss: 661.1512 - val_accuracy: 0.1304\n",
      "Epoch 7/30\n",
      "7/7 [==============================] - 27s 4s/step - loss: 2.0455 - accuracy: 0.3731 - val_loss: 395.6673 - val_accuracy: 0.1304\n",
      "Epoch 8/30\n",
      "7/7 [==============================] - 27s 4s/step - loss: 2.0460 - accuracy: 0.3731 - val_loss: 252.5743 - val_accuracy: 0.1304\n",
      "Epoch 9/30\n",
      "7/7 [==============================] - 22s 3s/step - loss: 1.8423 - accuracy: 0.4328 - val_loss: 208.7628 - val_accuracy: 0.1304\n",
      "Epoch 10/30\n",
      "7/7 [==============================] - 21s 3s/step - loss: 1.6624 - accuracy: 0.4577 - val_loss: 154.1462 - val_accuracy: 0.1304\n",
      "Epoch 11/30\n",
      "7/7 [==============================] - 28s 4s/step - loss: 1.7632 - accuracy: 0.4328 - val_loss: 117.1547 - val_accuracy: 0.1304\n",
      "Epoch 12/30\n",
      "7/7 [==============================] - 34s 5s/step - loss: 1.5756 - accuracy: 0.5124 - val_loss: 73.4303 - val_accuracy: 0.1304\n",
      "Epoch 13/30\n",
      "7/7 [==============================] - 35s 5s/step - loss: 1.6942 - accuracy: 0.5025 - val_loss: 55.2783 - val_accuracy: 0.1304\n",
      "Epoch 14/30\n",
      "7/7 [==============================] - 27s 4s/step - loss: 1.5809 - accuracy: 0.5124 - val_loss: 53.2990 - val_accuracy: 0.1304\n",
      "Epoch 15/30\n",
      "7/7 [==============================] - 18s 2s/step - loss: 1.5954 - accuracy: 0.4975 - val_loss: 77.6283 - val_accuracy: 0.1304\n",
      "Epoch 16/30\n",
      "7/7 [==============================] - 17s 2s/step - loss: 1.5185 - accuracy: 0.6070 - val_loss: 65.0091 - val_accuracy: 0.1304\n",
      "Epoch 17/30\n",
      "7/7 [==============================] - 18s 3s/step - loss: 1.4376 - accuracy: 0.5572 - val_loss: 49.9638 - val_accuracy: 0.1304\n",
      "Epoch 18/30\n",
      "7/7 [==============================] - 18s 3s/step - loss: 1.3784 - accuracy: 0.5522 - val_loss: 27.8231 - val_accuracy: 0.1739\n",
      "Epoch 19/30\n",
      "7/7 [==============================] - 18s 3s/step - loss: 1.1958 - accuracy: 0.6318 - val_loss: 15.0314 - val_accuracy: 0.2609\n",
      "Epoch 20/30\n",
      "7/7 [==============================] - 18s 3s/step - loss: 1.0374 - accuracy: 0.6915 - val_loss: 11.8792 - val_accuracy: 0.2609\n",
      "Epoch 21/30\n",
      "7/7 [==============================] - 18s 3s/step - loss: 0.9562 - accuracy: 0.7164 - val_loss: 20.2154 - val_accuracy: 0.1739\n",
      "Epoch 22/30\n",
      "7/7 [==============================] - 18s 2s/step - loss: 0.9306 - accuracy: 0.6915 - val_loss: 24.2991 - val_accuracy: 0.1739\n",
      "Epoch 23/30\n",
      "7/7 [==============================] - 18s 2s/step - loss: 0.9260 - accuracy: 0.6667 - val_loss: 18.3533 - val_accuracy: 0.2174\n",
      "Epoch 24/30\n",
      "7/7 [==============================] - 18s 3s/step - loss: 0.8382 - accuracy: 0.7114 - val_loss: 26.1768 - val_accuracy: 0.1304\n",
      "Epoch 25/30\n",
      "7/7 [==============================] - 18s 3s/step - loss: 0.9043 - accuracy: 0.7264 - val_loss: 17.2210 - val_accuracy: 0.2609\n",
      "Epoch 26/30\n",
      "7/7 [==============================] - 18s 2s/step - loss: 0.8000 - accuracy: 0.7612 - val_loss: 14.1116 - val_accuracy: 0.2609\n",
      "Epoch 27/30\n",
      "7/7 [==============================] - 22s 3s/step - loss: 1.0745 - accuracy: 0.6766 - val_loss: 8.7092 - val_accuracy: 0.3478\n",
      "Epoch 28/30\n",
      "7/7 [==============================] - 20s 3s/step - loss: 0.9948 - accuracy: 0.6915 - val_loss: 7.1758 - val_accuracy: 0.2609\n",
      "Epoch 29/30\n",
      "7/7 [==============================] - 19s 3s/step - loss: 0.9195 - accuracy: 0.6866 - val_loss: 6.4430 - val_accuracy: 0.2609\n",
      "Epoch 30/30\n",
      "7/7 [==============================] - 20s 3s/step - loss: 0.7432 - accuracy: 0.7662 - val_loss: 5.0540 - val_accuracy: 0.3478\n"
     ]
    }
   ],
   "source": [
    "alex_net = model.fit(np.array(X_train), np.array(y_train), batch_size=32, epochs=30, validation_split=0.1)"
   ]
  },
  {
   "cell_type": "code",
   "execution_count": 273,
   "id": "f629d71e",
   "metadata": {},
   "outputs": [
    {
     "name": "stdout",
     "output_type": "stream",
     "text": [
      "5/5 [==============================] - 3s 555ms/step - loss: 19.1423 - accuracy: 0.0671\n"
     ]
    },
    {
     "data": {
      "text/plain": [
       "[19.142332077026367, 0.06711409240961075]"
      ]
     },
     "execution_count": 273,
     "metadata": {},
     "output_type": "execute_result"
    }
   ],
   "source": [
    "model.evaluate(X_test, y_test)"
   ]
  },
  {
   "cell_type": "code",
   "execution_count": null,
   "id": "767f7970",
   "metadata": {},
   "outputs": [],
   "source": []
  }
 ],
 "metadata": {
  "kernelspec": {
   "display_name": "Python 3",
   "language": "python",
   "name": "python3"
  },
  "language_info": {
   "codemirror_mode": {
    "name": "ipython",
    "version": 3
   },
   "file_extension": ".py",
   "mimetype": "text/x-python",
   "name": "python",
   "nbconvert_exporter": "python",
   "pygments_lexer": "ipython3",
   "version": "3.9.2"
  }
 },
 "nbformat": 4,
 "nbformat_minor": 5
}
