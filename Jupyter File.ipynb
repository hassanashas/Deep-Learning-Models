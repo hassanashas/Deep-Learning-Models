{
  "cells": [
    {
      "cell_type": "code",
      "execution_count": 1,
      "id": "4c22a6c8",
      "metadata": {
        "id": "4c22a6c8"
      },
      "outputs": [],
      "source": [
        "import numpy as np\n",
        "import matplotlib.pyplot as plt \n",
        "import os\n",
        "import cv2\n",
        "import random \n",
        "import tensorflow as tf \n",
        "from tensorflow.keras.models import Sequential\n",
        "from tensorflow.keras.layers import Dense, Dropout, Activation, Flatten, Conv2D, MaxPooling2D"
      ]
    },
    {
      "cell_type": "code",
      "source": [
        "from google.colab import drive\n",
        "drive.mount('/content/drive')"
      ],
      "metadata": {
        "colab": {
          "base_uri": "https://localhost:8080/"
        },
        "id": "1En63vKnlk0A",
        "outputId": "ba7f810c-50e1-4a7f-a0a2-380d31eedbc3"
      },
      "id": "1En63vKnlk0A",
      "execution_count": 2,
      "outputs": [
        {
          "output_type": "stream",
          "name": "stdout",
          "text": [
            "Mounted at /content/drive\n"
          ]
        }
      ]
    },
    {
      "cell_type": "code",
      "execution_count": 3,
      "id": "42df0b37",
      "metadata": {
        "colab": {
          "base_uri": "https://localhost:8080/"
        },
        "id": "42df0b37",
        "outputId": "5dedd236-e496-4e80-cb27-54349435ad12"
      },
      "outputs": [
        {
          "output_type": "stream",
          "name": "stdout",
          "text": [
            "['airplanes', 'buddha', 'chair', 'dolphin', 'elephant', 'Faces', 'grand_piano', 'lobster', 'Motorbikes', 'octopus', 'panda', 'rhino', 'snoopy', 'strawberry', 'water_lilly']\n"
          ]
        }
      ],
      "source": [
        "f = open(\"/content/drive/MyDrive/ML_As#05/AML_A5_Fall2021/class_names.txt\", \"r\")\n",
        "labels = []\n",
        "for x in f:\n",
        "    labels.append(x.rstrip(\"\\n\"))\n",
        "print(labels)"
      ]
    },
    {
      "cell_type": "code",
      "execution_count": 4,
      "id": "0c8aa979",
      "metadata": {
        "id": "0c8aa979"
      },
      "outputs": [],
      "source": [
        "f = open(\"/content/drive/MyDrive/ML_As#05/AML_A5_Fall2021/train_labels.txt\", \"r\")\n",
        "train_labels = []\n",
        "for x in f:\n",
        "    train_labels.append(x.rstrip(\"\\n\"))\n"
      ]
    },
    {
      "cell_type": "code",
      "execution_count": 5,
      "id": "d149f08c",
      "metadata": {
        "scrolled": false,
        "id": "d149f08c"
      },
      "outputs": [],
      "source": [
        "\n",
        "def create_training_data():\n",
        "    training_data = []\n",
        "    datadir = \"/content/drive/MyDrive/ML_As#05/AML_A5_Fall2021/training_set/\"\n",
        "    for img, label in zip(os.listdir(datadir), train_labels):\n",
        "        try:\n",
        "            img_array = cv2.imread(os.path.join(datadir, img), cv2.IMREAD_GRAYSCALE)\n",
        "            new_array = cv2.resize(img_array, (50, 50))\n",
        "            training_data.append([new_array, label])\n",
        "        except Exception as e:\n",
        "            pass\n",
        "        #print(labels[int(label)-1])\n",
        "        #plt.imshow(img_array, cmap=\"gray\")\n",
        "        #plt.show()\n",
        "    return training_data\n",
        "training_data = create_training_data()\n"
      ]
    },
    {
      "cell_type": "code",
      "execution_count": 6,
      "id": "5718d420",
      "metadata": {
        "colab": {
          "base_uri": "https://localhost:8080/"
        },
        "id": "5718d420",
        "outputId": "30551105-2bc9-4b77-d275-75673a8cfd1e"
      },
      "outputs": [
        {
          "output_type": "stream",
          "name": "stdout",
          "text": [
            "225\n"
          ]
        }
      ],
      "source": [
        "print(len(training_data))"
      ]
    },
    {
      "cell_type": "code",
      "execution_count": 7,
      "id": "8c37a60f",
      "metadata": {
        "id": "8c37a60f"
      },
      "outputs": [],
      "source": [
        "import random \n",
        "\n",
        "random.shuffle(training_data)"
      ]
    },
    {
      "cell_type": "code",
      "execution_count": 8,
      "id": "1befaac2",
      "metadata": {
        "id": "1befaac2"
      },
      "outputs": [],
      "source": [
        "X_train = []\n",
        "y_train = []"
      ]
    },
    {
      "cell_type": "code",
      "execution_count": 9,
      "id": "2032767a",
      "metadata": {
        "id": "2032767a"
      },
      "outputs": [],
      "source": [
        "for features, labels in training_data:\n",
        "    X_train.append(features)\n",
        "    y_train.append(labels)\n",
        "\n",
        "X_train = np.array(X_train).reshape(-1, 50, 50, 1)\n",
        "y_train = np.array(y_train)\n",
        "y_train = y_train.astype(int)"
      ]
    },
    {
      "cell_type": "code",
      "execution_count": 10,
      "id": "827ff862",
      "metadata": {
        "colab": {
          "base_uri": "https://localhost:8080/"
        },
        "id": "827ff862",
        "outputId": "6f081cfb-a5d2-470d-cb70-a1199eec1bc2"
      },
      "outputs": [
        {
          "output_type": "execute_result",
          "data": {
            "text/plain": [
              "((225, 50, 50, 1), (225,))"
            ]
          },
          "metadata": {},
          "execution_count": 10
        }
      ],
      "source": [
        "X_train.shape, y_train.shape"
      ]
    },
    {
      "cell_type": "code",
      "execution_count": 11,
      "id": "3efe2d2c",
      "metadata": {
        "id": "3efe2d2c"
      },
      "outputs": [],
      "source": [
        "X_train = X_train/255.0\n",
        "model = Sequential()\n",
        "\n",
        "model.add(Conv2D(64, (3, 3), input_shape = X_train.shape[1:]))\n",
        "model.add(Activation(\"relu\"))\n",
        "model.add(MaxPooling2D(pool_size=(2, 2)))\n",
        "\n",
        "model.add(Conv2D(128, (3, 3)))\n",
        "model.add(Activation(\"relu\"))\n",
        "model.add(MaxPooling2D(pool_size=(2, 2)))\n",
        "\n",
        "model.add(Flatten())\n",
        "model.add(Dense(64))\n",
        "\n",
        "model.add(Dense(16))\n",
        "model.add(Activation('softmax'))\n"
      ]
    },
    {
      "cell_type": "code",
      "execution_count": 12,
      "id": "ec681e58",
      "metadata": {
        "id": "ec681e58"
      },
      "outputs": [],
      "source": [
        "from tensorflow.keras.optimizers import SGD\n",
        "\n",
        "model.compile(loss='sparse_categorical_crossentropy', \n",
        "             optimizer=SGD(learning_rate=0.01), \n",
        "             metrics=['accuracy'])"
      ]
    },
    {
      "cell_type": "code",
      "execution_count": 13,
      "id": "6ae0975f",
      "metadata": {
        "colab": {
          "base_uri": "https://localhost:8080/"
        },
        "id": "6ae0975f",
        "outputId": "61d28656-c812-4fd9-961a-f5aa33e0bfa5"
      },
      "outputs": [
        {
          "output_type": "stream",
          "name": "stdout",
          "text": [
            "Epoch 1/30\n",
            "7/7 [==============================] - 2s 170ms/step - loss: 2.7814 - accuracy: 0.0396 - val_loss: 2.7747 - val_accuracy: 0.1304\n",
            "Epoch 2/30\n",
            "7/7 [==============================] - 1s 151ms/step - loss: 2.7570 - accuracy: 0.0495 - val_loss: 2.7948 - val_accuracy: 0.0000e+00\n",
            "Epoch 3/30\n",
            "7/7 [==============================] - 1s 194ms/step - loss: 2.7474 - accuracy: 0.0545 - val_loss: 2.8005 - val_accuracy: 0.0000e+00\n",
            "Epoch 4/30\n",
            "7/7 [==============================] - 2s 216ms/step - loss: 2.7338 - accuracy: 0.0446 - val_loss: 2.8074 - val_accuracy: 0.0000e+00\n",
            "Epoch 5/30\n",
            "7/7 [==============================] - 2s 210ms/step - loss: 2.7202 - accuracy: 0.0743 - val_loss: 2.8043 - val_accuracy: 0.0000e+00\n",
            "Epoch 6/30\n",
            "7/7 [==============================] - 1s 149ms/step - loss: 2.7219 - accuracy: 0.0891 - val_loss: 2.8107 - val_accuracy: 0.0000e+00\n",
            "Epoch 7/30\n",
            "7/7 [==============================] - 1s 145ms/step - loss: 2.7114 - accuracy: 0.0594 - val_loss: 2.7905 - val_accuracy: 0.0000e+00\n",
            "Epoch 8/30\n",
            "7/7 [==============================] - 1s 147ms/step - loss: 2.7088 - accuracy: 0.0891 - val_loss: 2.7852 - val_accuracy: 0.0000e+00\n",
            "Epoch 9/30\n",
            "7/7 [==============================] - 1s 147ms/step - loss: 2.7046 - accuracy: 0.0990 - val_loss: 2.8087 - val_accuracy: 0.0435\n",
            "Epoch 10/30\n",
            "7/7 [==============================] - 1s 145ms/step - loss: 2.7009 - accuracy: 0.0792 - val_loss: 2.8017 - val_accuracy: 0.0000e+00\n",
            "Epoch 11/30\n",
            "7/7 [==============================] - 1s 146ms/step - loss: 2.6965 - accuracy: 0.1089 - val_loss: 2.8073 - val_accuracy: 0.0000e+00\n",
            "Epoch 12/30\n",
            "7/7 [==============================] - 1s 143ms/step - loss: 2.6970 - accuracy: 0.0693 - val_loss: 2.8023 - val_accuracy: 0.0870\n",
            "Epoch 13/30\n",
            "7/7 [==============================] - 1s 144ms/step - loss: 2.6939 - accuracy: 0.0842 - val_loss: 2.8116 - val_accuracy: 0.0000e+00\n",
            "Epoch 14/30\n",
            "7/7 [==============================] - 1s 148ms/step - loss: 2.6921 - accuracy: 0.0941 - val_loss: 2.8547 - val_accuracy: 0.0000e+00\n",
            "Epoch 15/30\n",
            "7/7 [==============================] - 1s 146ms/step - loss: 2.6777 - accuracy: 0.1287 - val_loss: 2.8199 - val_accuracy: 0.0435\n",
            "Epoch 16/30\n",
            "7/7 [==============================] - 1s 145ms/step - loss: 2.6761 - accuracy: 0.1584 - val_loss: 2.8108 - val_accuracy: 0.0000e+00\n",
            "Epoch 17/30\n",
            "7/7 [==============================] - 1s 144ms/step - loss: 2.6731 - accuracy: 0.1089 - val_loss: 2.7982 - val_accuracy: 0.0000e+00\n",
            "Epoch 18/30\n",
            "7/7 [==============================] - 1s 145ms/step - loss: 2.6656 - accuracy: 0.1485 - val_loss: 2.8469 - val_accuracy: 0.0000e+00\n",
            "Epoch 19/30\n",
            "7/7 [==============================] - 1s 146ms/step - loss: 2.6562 - accuracy: 0.1386 - val_loss: 2.8540 - val_accuracy: 0.0000e+00\n",
            "Epoch 20/30\n",
            "7/7 [==============================] - 1s 144ms/step - loss: 2.6582 - accuracy: 0.1139 - val_loss: 2.8045 - val_accuracy: 0.0435\n",
            "Epoch 21/30\n",
            "7/7 [==============================] - 1s 146ms/step - loss: 2.6607 - accuracy: 0.1188 - val_loss: 2.7857 - val_accuracy: 0.0435\n",
            "Epoch 22/30\n",
            "7/7 [==============================] - 1s 147ms/step - loss: 2.6533 - accuracy: 0.1436 - val_loss: 2.8114 - val_accuracy: 0.0000e+00\n",
            "Epoch 23/30\n",
            "7/7 [==============================] - 1s 146ms/step - loss: 2.6410 - accuracy: 0.1337 - val_loss: 2.7927 - val_accuracy: 0.0435\n",
            "Epoch 24/30\n",
            "7/7 [==============================] - 1s 147ms/step - loss: 2.6352 - accuracy: 0.1634 - val_loss: 2.8636 - val_accuracy: 0.0000e+00\n",
            "Epoch 25/30\n",
            "7/7 [==============================] - 1s 148ms/step - loss: 2.6335 - accuracy: 0.1436 - val_loss: 2.8324 - val_accuracy: 0.0000e+00\n",
            "Epoch 26/30\n",
            "7/7 [==============================] - 1s 146ms/step - loss: 2.6143 - accuracy: 0.1584 - val_loss: 2.7980 - val_accuracy: 0.0870\n",
            "Epoch 27/30\n",
            "7/7 [==============================] - 1s 148ms/step - loss: 2.6278 - accuracy: 0.1139 - val_loss: 2.8031 - val_accuracy: 0.0000e+00\n",
            "Epoch 28/30\n",
            "7/7 [==============================] - 1s 144ms/step - loss: 2.6166 - accuracy: 0.1287 - val_loss: 2.8526 - val_accuracy: 0.0000e+00\n",
            "Epoch 29/30\n",
            "7/7 [==============================] - 1s 145ms/step - loss: 2.6054 - accuracy: 0.1089 - val_loss: 2.8295 - val_accuracy: 0.0435\n",
            "Epoch 30/30\n",
            "7/7 [==============================] - 1s 149ms/step - loss: 2.5986 - accuracy: 0.2030 - val_loss: 2.9089 - val_accuracy: 0.0000e+00\n"
          ]
        }
      ],
      "source": [
        "model_fit = model.fit(X_train, y_train, batch_size=32, epochs=30, validation_split=0.1)"
      ]
    },
    {
      "cell_type": "code",
      "execution_count": 14,
      "id": "54c8cc24",
      "metadata": {
        "id": "54c8cc24"
      },
      "outputs": [],
      "source": [
        "f = open(\"/content/drive/MyDrive/ML_As#05/AML_A5_Fall2021/test_labels.txt\", \"r\")\n",
        "test_labels = []\n",
        "for x in f:\n",
        "    test_labels.append(x.rstrip(\"\\n\"))"
      ]
    },
    {
      "cell_type": "code",
      "execution_count": 17,
      "id": "0137f85e",
      "metadata": {
        "id": "0137f85e"
      },
      "outputs": [],
      "source": [
        "\n",
        "def create_testing_data():\n",
        "    testing_data = []\n",
        "    datadir = \"/content/drive/MyDrive/ML_As#05/AML_A5_Fall2021/test_set/\"\n",
        "    for img, label in zip(os.listdir(datadir), test_labels):\n",
        "        try:\n",
        "            img_array = cv2.imread(os.path.join(datadir, img), cv2.IMREAD_GRAYSCALE)\n",
        "            new_array = cv2.resize(img_array, (50, 50))\n",
        "            testing_data.append([new_array, label])\n",
        "        except Exception as e:\n",
        "            pass\n",
        "        #print(labels[int(label)-1])\n",
        "        #plt.imshow(img_array, cmap=\"gray\")\n",
        "        #plt.show()        \n",
        "    return testing_data\n",
        "testing_data = create_testing_data()\n"
      ]
    },
    {
      "cell_type": "code",
      "execution_count": 18,
      "id": "c217510b",
      "metadata": {
        "colab": {
          "base_uri": "https://localhost:8080/"
        },
        "id": "c217510b",
        "outputId": "a3134fc8-66df-4156-9947-679918686713"
      },
      "outputs": [
        {
          "output_type": "stream",
          "name": "stdout",
          "text": [
            "150\n"
          ]
        }
      ],
      "source": [
        "print(len(testing_data))"
      ]
    },
    {
      "cell_type": "code",
      "execution_count": 19,
      "id": "84d658c6",
      "metadata": {
        "id": "84d658c6"
      },
      "outputs": [],
      "source": [
        "X_test = []\n",
        "y_test = []\n",
        "for features, labels in testing_data:\n",
        "    X_test.append(features)\n",
        "    y_test.append(labels)\n",
        "\n",
        "X_test = np.array(X_test).reshape(-1, 50, 50, 1)\n",
        "y_test = np.array(y_test)\n",
        "y_test = y_test.astype(int)"
      ]
    },
    {
      "cell_type": "code",
      "execution_count": 20,
      "id": "05f04863",
      "metadata": {
        "id": "05f04863"
      },
      "outputs": [],
      "source": [
        "X_test = X_test / 255.0"
      ]
    },
    {
      "cell_type": "code",
      "execution_count": 21,
      "id": "85309363",
      "metadata": {
        "colab": {
          "base_uri": "https://localhost:8080/"
        },
        "id": "85309363",
        "outputId": "4d5fdec6-8509-4c0c-fc9b-b99f06ff50af"
      },
      "outputs": [
        {
          "output_type": "execute_result",
          "data": {
            "text/plain": [
              "((150, 50, 50, 1), (150,))"
            ]
          },
          "metadata": {},
          "execution_count": 21
        }
      ],
      "source": [
        "X_test.shape, y_test.shape"
      ]
    },
    {
      "cell_type": "code",
      "execution_count": 22,
      "id": "5a4eec55",
      "metadata": {
        "colab": {
          "base_uri": "https://localhost:8080/"
        },
        "id": "5a4eec55",
        "outputId": "7021a8d1-28ec-46e5-c790-4cc93b44e1ff"
      },
      "outputs": [
        {
          "output_type": "stream",
          "name": "stdout",
          "text": [
            "5/5 [==============================] - 0s 41ms/step - loss: 2.7572 - accuracy: 0.0733\n"
          ]
        },
        {
          "output_type": "execute_result",
          "data": {
            "text/plain": [
              "[2.757174253463745, 0.07333333045244217]"
            ]
          },
          "metadata": {},
          "execution_count": 22
        }
      ],
      "source": [
        "model.evaluate(X_test, y_test)"
      ]
    },
    {
      "cell_type": "markdown",
      "id": "929df246",
      "metadata": {
        "id": "929df246"
      },
      "source": [
        "## AlexNet CNN "
      ]
    },
    {
      "cell_type": "code",
      "execution_count": 26,
      "id": "fc40b921",
      "metadata": {
        "id": "fc40b921"
      },
      "outputs": [],
      "source": [
        "def create_training_data():\n",
        "    training_data = []\n",
        "    datadir = \"/content/drive/MyDrive/ML_As#05/AML_A5_Fall2021/training_set/\"\n",
        "    for img, label in zip(os.listdir(datadir), train_labels):\n",
        "        try:\n",
        "            img_array = cv2.imread(os.path.join(datadir, img))\n",
        "            new_array = cv2.resize(img_array, (227, 227))\n",
        "            training_data.append([new_array, label])\n",
        "        except Exception as e:\n",
        "            pass\n",
        "        #print(labels[int(label)-1])\n",
        "        #plt.imshow(img_array, cmap=\"gray\")\n",
        "        #plt.show()\n",
        "    return training_data\n",
        "training_data = create_training_data()\n"
      ]
    },
    {
      "cell_type": "code",
      "execution_count": 27,
      "id": "dad5c6ad",
      "metadata": {
        "id": "dad5c6ad"
      },
      "outputs": [],
      "source": [
        "random.shuffle(training_data)\n",
        "\n",
        "X_train = []\n",
        "y_train = []\n",
        "\n",
        "for features, labels in training_data:\n",
        "    X_train.append(features)\n",
        "    y_train.append(labels)\n",
        "\n",
        "X_train = np.array(X_train).reshape(-1, 227, 227, 3)\n",
        "y_train = np.array(y_train)\n",
        "y_train = y_train.astype(int)\n",
        "X_train = X_train/255.0"
      ]
    },
    {
      "cell_type": "code",
      "execution_count": 28,
      "id": "29b01589",
      "metadata": {
        "id": "29b01589"
      },
      "outputs": [],
      "source": [
        "def create_testing_data():\n",
        "    testing_data = []\n",
        "    datadir = \"/content/drive/MyDrive/ML_As#05/AML_A5_Fall2021/test_set/\"\n",
        "    for img, label in zip(os.listdir(datadir), test_labels):\n",
        "        try:\n",
        "            img_array = cv2.imread(os.path.join(datadir, img))\n",
        "            new_array = cv2.resize(img_array, (227, 227))\n",
        "            testing_data.append([new_array, label])\n",
        "        except Exception as e:\n",
        "            pass\n",
        "    \n",
        "    X_test = []\n",
        "    y_test = []\n",
        "    for features, labels in testing_data:\n",
        "        X_test.append(features)\n",
        "        y_test.append(labels)\n",
        "\n",
        "    X_test = np.array(X_test).reshape(-1, 227, 227, 3)\n",
        "    y_test = np.array(y_test)\n",
        "    y_test = y_test.astype(int)\n",
        "    \n",
        "    return X_test, y_test\n",
        "\n",
        "X_test, y_test = create_testing_data()\n",
        "X_test = X_test / 255.0\n"
      ]
    },
    {
      "cell_type": "code",
      "execution_count": 29,
      "id": "eea09b27",
      "metadata": {
        "id": "eea09b27"
      },
      "outputs": [],
      "source": [
        "from tensorflow.keras.layers import BatchNormalization"
      ]
    },
    {
      "cell_type": "code",
      "execution_count": 30,
      "id": "e7feb3a3",
      "metadata": {
        "id": "e7feb3a3"
      },
      "outputs": [],
      "source": [
        "image_shape = (227, 227, 3)\n",
        "\n",
        "# (3) Create a sequential model\n",
        "model = Sequential()\n",
        "\n",
        "# 1st Convolutional Layer\n",
        "model.add(Conv2D(filters=96, input_shape=(227,227,3), kernel_size=(11,11),\\\n",
        " strides=(4,4), padding='valid'))\n",
        "model.add(Activation('relu'))\n",
        "# Pooling \n",
        "model.add(MaxPooling2D(pool_size=(2,2), strides=(2,2), padding='valid'))\n",
        "# Batch Normalisation before passing it to the next layer\n",
        "model.add(BatchNormalization())\n",
        "\n",
        "# 2nd Convolutional Layer\n",
        "model.add(Conv2D(filters=256, kernel_size=(11,11), strides=(1,1), padding='valid'))\n",
        "model.add(Activation('relu'))\n",
        "# Pooling\n",
        "model.add(MaxPooling2D(pool_size=(2,2), strides=(2,2), padding='valid'))\n",
        "# Batch Normalisation\n",
        "model.add(BatchNormalization())\n",
        "\n",
        "# 3rd Convolutional Layer\n",
        "model.add(Conv2D(filters=384, kernel_size=(3,3), strides=(1,1), padding='valid'))\n",
        "model.add(Activation('relu'))\n",
        "# Batch Normalisation\n",
        "model.add(BatchNormalization())\n",
        "\n",
        "# 4th Convolutional Layer\n",
        "model.add(Conv2D(filters=384, kernel_size=(3,3), strides=(1,1), padding='valid'))\n",
        "model.add(Activation('relu'))\n",
        "# Batch Normalisation\n",
        "model.add(BatchNormalization())\n",
        "\n",
        "# 5th Convolutional Layer\n",
        "model.add(Conv2D(filters=256, kernel_size=(3,3), strides=(1,1), padding='valid'))\n",
        "model.add(Activation('relu'))\n",
        "# Pooling\n",
        "model.add(MaxPooling2D(pool_size=(2,2), strides=(2,2), padding='valid'))\n",
        "# Batch Normalisation\n",
        "model.add(BatchNormalization())\n",
        "\n",
        "# Passing it to a dense layer\n",
        "model.add(Flatten())\n",
        "# 1st Dense Layer\n",
        "model.add(Dense(4096, input_shape=(224*224*3,)))\n",
        "model.add(Activation('relu'))\n",
        "# Add Dropout to prevent overfitting\n",
        "model.add(Dropout(0.4))\n",
        "# Batch Normalisation\n",
        "model.add(BatchNormalization())\n",
        "\n",
        "# 2nd Dense Layer\n",
        "model.add(Dense(4096))\n",
        "model.add(Activation('relu'))\n",
        "# Add Dropout\n",
        "model.add(Dropout(0.4))\n",
        "# Batch Normalisation\n",
        "model.add(BatchNormalization())\n",
        "\n",
        "# 3rd Dense Layer\n",
        "model.add(Dense(1000))\n",
        "model.add(Activation('relu'))\n",
        "# Add Dropout\n",
        "model.add(Dropout(0.4))\n",
        "# Batch Normalisation\n",
        "model.add(BatchNormalization())\n",
        "\n",
        "# Output Layer\n",
        "model.add(Dense(16))\n",
        "model.add(Activation('softmax'))\n",
        "\n",
        "#model.summary()\n",
        "\n",
        "model.compile(loss='sparse_categorical_crossentropy', optimizer='adam', metrics=['accuracy'])"
      ]
    },
    {
      "cell_type": "code",
      "execution_count": 31,
      "id": "217253d7",
      "metadata": {
        "id": "217253d7"
      },
      "outputs": [],
      "source": [
        "tf.config.run_functions_eagerly(True)"
      ]
    },
    {
      "cell_type": "code",
      "execution_count": 32,
      "id": "1767422f",
      "metadata": {
        "scrolled": false,
        "colab": {
          "base_uri": "https://localhost:8080/"
        },
        "id": "1767422f",
        "outputId": "1c56e5e9-446b-4663-fc1f-12205b58f503"
      },
      "outputs": [
        {
          "output_type": "stream",
          "name": "stderr",
          "text": [
            "/usr/local/lib/python3.7/dist-packages/tensorflow/python/data/ops/dataset_ops.py:4527: UserWarning: Even though the `tf.config.experimental_run_functions_eagerly` option is set, this option does not apply to tf.data functions. To force eager execution of tf.data functions, please use `tf.data.experimental.enable_debug_mode()`.\n",
            "  \"Even though the `tf.config.experimental_run_functions_eagerly` \"\n"
          ]
        },
        {
          "output_type": "stream",
          "name": "stdout",
          "text": [
            "Epoch 1/15\n",
            "7/7 [==============================] - 28s 4s/step - loss: 3.9714 - accuracy: 0.0792 - val_loss: 14.5478 - val_accuracy: 0.0870\n",
            "Epoch 2/15\n",
            "7/7 [==============================] - 23s 3s/step - loss: 3.8394 - accuracy: 0.0743 - val_loss: 127.6880 - val_accuracy: 0.0000e+00\n",
            "Epoch 3/15\n",
            "7/7 [==============================] - 23s 3s/step - loss: 3.3607 - accuracy: 0.1238 - val_loss: 258.4638 - val_accuracy: 0.0000e+00\n",
            "Epoch 4/15\n",
            "7/7 [==============================] - 23s 3s/step - loss: 3.2190 - accuracy: 0.1287 - val_loss: 183.9785 - val_accuracy: 0.0000e+00\n",
            "Epoch 5/15\n",
            "7/7 [==============================] - 29s 4s/step - loss: 2.7798 - accuracy: 0.2277 - val_loss: 143.9658 - val_accuracy: 0.0435\n",
            "Epoch 6/15\n",
            "7/7 [==============================] - 24s 3s/step - loss: 2.9059 - accuracy: 0.1683 - val_loss: 152.1980 - val_accuracy: 0.1304\n",
            "Epoch 7/15\n",
            "7/7 [==============================] - 23s 3s/step - loss: 2.7401 - accuracy: 0.2228 - val_loss: 79.6917 - val_accuracy: 0.0870\n",
            "Epoch 8/15\n",
            "7/7 [==============================] - 23s 3s/step - loss: 2.6737 - accuracy: 0.2475 - val_loss: 52.6544 - val_accuracy: 0.0870\n",
            "Epoch 9/15\n",
            "7/7 [==============================] - 23s 3s/step - loss: 2.5963 - accuracy: 0.2079 - val_loss: 32.8223 - val_accuracy: 0.0870\n",
            "Epoch 10/15\n",
            "7/7 [==============================] - 24s 3s/step - loss: 2.3965 - accuracy: 0.2030 - val_loss: 18.8020 - val_accuracy: 0.0000e+00\n",
            "Epoch 11/15\n",
            "7/7 [==============================] - 23s 3s/step - loss: 2.6677 - accuracy: 0.2574 - val_loss: 10.7566 - val_accuracy: 0.0000e+00\n",
            "Epoch 12/15\n",
            "7/7 [==============================] - 23s 3s/step - loss: 2.4585 - accuracy: 0.3069 - val_loss: 16.0064 - val_accuracy: 0.0000e+00\n",
            "Epoch 13/15\n",
            "7/7 [==============================] - 23s 3s/step - loss: 2.5034 - accuracy: 0.2228 - val_loss: 19.3532 - val_accuracy: 0.0000e+00\n",
            "Epoch 14/15\n",
            "7/7 [==============================] - 23s 3s/step - loss: 2.4002 - accuracy: 0.2772 - val_loss: 14.1689 - val_accuracy: 0.0000e+00\n",
            "Epoch 15/15\n",
            "7/7 [==============================] - 23s 3s/step - loss: 2.0868 - accuracy: 0.3317 - val_loss: 12.1118 - val_accuracy: 0.0000e+00\n"
          ]
        }
      ],
      "source": [
        "alex_net = model.fit(np.array(X_train), np.array(y_train), batch_size=32, epochs=15, validation_split=0.1)"
      ]
    },
    {
      "cell_type": "code",
      "execution_count": 33,
      "id": "d22c7790",
      "metadata": {
        "colab": {
          "base_uri": "https://localhost:8080/"
        },
        "id": "d22c7790",
        "outputId": "8ac62a51-7d2f-4c92-a5b0-e1c4b53245b9"
      },
      "outputs": [
        {
          "output_type": "stream",
          "name": "stderr",
          "text": [
            "/usr/local/lib/python3.7/dist-packages/tensorflow/python/data/ops/dataset_ops.py:4527: UserWarning: Even though the `tf.config.experimental_run_functions_eagerly` option is set, this option does not apply to tf.data functions. To force eager execution of tf.data functions, please use `tf.data.experimental.enable_debug_mode()`.\n",
            "  \"Even though the `tf.config.experimental_run_functions_eagerly` \"\n"
          ]
        },
        {
          "output_type": "stream",
          "name": "stdout",
          "text": [
            "5/5 [==============================] - 4s 791ms/step - loss: 12.5610 - accuracy: 0.0600\n"
          ]
        },
        {
          "output_type": "execute_result",
          "data": {
            "text/plain": [
              "[12.561044692993164, 0.05999999865889549]"
            ]
          },
          "metadata": {},
          "execution_count": 33
        }
      ],
      "source": [
        "model.evaluate(X_test, y_test)"
      ]
    },
    {
      "cell_type": "markdown",
      "id": "18602f65",
      "metadata": {
        "id": "18602f65"
      },
      "source": [
        "## VGGNet CNN"
      ]
    },
    {
      "cell_type": "code",
      "execution_count": 34,
      "id": "c9fc6d9e",
      "metadata": {
        "id": "c9fc6d9e"
      },
      "outputs": [],
      "source": [
        "from tensorflow.keras.layers import Input, Lambda, Dense, Flatten\n",
        "from tensorflow.keras.models import Model\n",
        "from tensorflow.keras.applications.vgg16 import VGG16\n",
        "from tensorflow.keras.applications.vgg19 import VGG19\n",
        "from tensorflow.keras.preprocessing import image\n",
        "from tensorflow.keras.preprocessing.image import ImageDataGenerator,load_img\n",
        "from tensorflow.keras.models import Sequential\n",
        "import numpy as np\n",
        "from glob import glob"
      ]
    },
    {
      "cell_type": "code",
      "execution_count": 35,
      "id": "6dee809a",
      "metadata": {
        "id": "6dee809a"
      },
      "outputs": [],
      "source": [
        "def create_training_data():\n",
        "    training_data = []\n",
        "    datadir = \"/content/drive/MyDrive/ML_As#05/AML_A5_Fall2021/training_set/\"\n",
        "    for img, label in zip(os.listdir(datadir), train_labels):\n",
        "        try:\n",
        "            img_array = cv2.imread(os.path.join(datadir, img))\n",
        "            new_array = cv2.resize(img_array, (224, 224))\n",
        "            training_data.append([new_array, label])\n",
        "        except Exception as e:\n",
        "            pass\n",
        "        #print(labels[int(label)-1])\n",
        "        #plt.imshow(img_array, cmap=\"gray\")\n",
        "        #plt.show()\n",
        "    return training_data\n",
        "training_data = create_training_data()\n"
      ]
    },
    {
      "cell_type": "code",
      "execution_count": 36,
      "id": "f1fb86de",
      "metadata": {
        "id": "f1fb86de"
      },
      "outputs": [],
      "source": [
        "random.shuffle(training_data)\n",
        "\n",
        "X_train = []\n",
        "y_train = []\n",
        "\n",
        "for features, labels in training_data:\n",
        "    X_train.append(features)\n",
        "    y_train.append(labels)\n",
        "\n",
        "X_train = np.array(X_train).reshape(-1, 224, 224, 3)\n",
        "y_train = np.array(y_train)\n",
        "y_train = y_train.astype(int)\n",
        "X_train = X_train/255.0"
      ]
    },
    {
      "cell_type": "code",
      "execution_count": 37,
      "id": "6f3876e3",
      "metadata": {
        "id": "6f3876e3"
      },
      "outputs": [],
      "source": [
        "def create_testing_data():\n",
        "    testing_data = []\n",
        "    datadir = \"/content/drive/MyDrive/ML_As#05/AML_A5_Fall2021/test_set/\"\n",
        "    for img, label in zip(os.listdir(datadir), test_labels):\n",
        "        try:\n",
        "            img_array = cv2.imread(os.path.join(datadir, img))\n",
        "            new_array = cv2.resize(img_array, (224, 224))\n",
        "            testing_data.append([new_array, label])\n",
        "        except Exception as e:\n",
        "            pass\n",
        "    \n",
        "    X_test = []\n",
        "    y_test = []\n",
        "    for features, labels in testing_data:\n",
        "        X_test.append(features)\n",
        "        y_test.append(labels)\n",
        "\n",
        "    X_test = np.array(X_test).reshape(-1, 224, 224, 3)\n",
        "    y_test = np.array(y_test)\n",
        "    y_test = y_test.astype(int)\n",
        "    \n",
        "    return X_test, y_test\n",
        "\n",
        "X_test, y_test = create_testing_data()\n",
        "X_test = X_test / 255.0\n"
      ]
    },
    {
      "cell_type": "code",
      "execution_count": 38,
      "id": "72dfbf70",
      "metadata": {
        "colab": {
          "base_uri": "https://localhost:8080/"
        },
        "id": "72dfbf70",
        "outputId": "648be10a-bfd2-4c45-c788-4c28d448f312"
      },
      "outputs": [
        {
          "output_type": "execute_result",
          "data": {
            "text/plain": [
              "((225, 224, 224, 3), (150, 224, 224, 3), (225,), (150,))"
            ]
          },
          "metadata": {},
          "execution_count": 38
        }
      ],
      "source": [
        "X_train.shape, X_test.shape, y_train.shape, y_test.shape"
      ]
    },
    {
      "cell_type": "code",
      "execution_count": 39,
      "id": "537309e8",
      "metadata": {
        "colab": {
          "base_uri": "https://localhost:8080/"
        },
        "id": "537309e8",
        "outputId": "38d22c63-d608-4960-9b5b-39be389250c5"
      },
      "outputs": [
        {
          "output_type": "stream",
          "name": "stdout",
          "text": [
            "Downloading data from https://storage.googleapis.com/tensorflow/keras-applications/vgg16/vgg16_weights_tf_dim_ordering_tf_kernels_notop.h5\n",
            "58892288/58889256 [==============================] - 1s 0us/step\n",
            "58900480/58889256 [==============================] - 1s 0us/step\n"
          ]
        }
      ],
      "source": [
        "vgg16 = VGG16(input_shape=[224, 224] + [3], weights='imagenet', include_top=False)\n"
      ]
    },
    {
      "cell_type": "code",
      "execution_count": 40,
      "id": "490c49db",
      "metadata": {
        "id": "490c49db"
      },
      "outputs": [],
      "source": [
        "for layer in vgg16.layers:\n",
        "    layer.trainable = False"
      ]
    },
    {
      "cell_type": "code",
      "execution_count": 41,
      "id": "8f6ab54a",
      "metadata": {
        "id": "8f6ab54a"
      },
      "outputs": [],
      "source": [
        "x = Flatten()(vgg16.output)"
      ]
    },
    {
      "cell_type": "code",
      "execution_count": 47,
      "id": "47f98cbb",
      "metadata": {
        "id": "47f98cbb"
      },
      "outputs": [],
      "source": [
        "prediction = Dense(16, activation='softmax')(x)"
      ]
    },
    {
      "cell_type": "code",
      "execution_count": 48,
      "id": "51d8178c",
      "metadata": {
        "id": "51d8178c"
      },
      "outputs": [],
      "source": [
        "model = Model(inputs=vgg16.input, outputs=prediction)"
      ]
    },
    {
      "cell_type": "code",
      "execution_count": 49,
      "id": "0e6be074",
      "metadata": {
        "colab": {
          "base_uri": "https://localhost:8080/"
        },
        "id": "0e6be074",
        "outputId": "2fa465f0-c586-4931-f51c-828ef51788d5"
      },
      "outputs": [
        {
          "output_type": "stream",
          "name": "stdout",
          "text": [
            "Model: \"model_1\"\n",
            "_________________________________________________________________\n",
            " Layer (type)                Output Shape              Param #   \n",
            "=================================================================\n",
            " input_1 (InputLayer)        [(None, 224, 224, 3)]     0         \n",
            "                                                                 \n",
            " block1_conv1 (Conv2D)       (None, 224, 224, 64)      1792      \n",
            "                                                                 \n",
            " block1_conv2 (Conv2D)       (None, 224, 224, 64)      36928     \n",
            "                                                                 \n",
            " block1_pool (MaxPooling2D)  (None, 112, 112, 64)      0         \n",
            "                                                                 \n",
            " block2_conv1 (Conv2D)       (None, 112, 112, 128)     73856     \n",
            "                                                                 \n",
            " block2_conv2 (Conv2D)       (None, 112, 112, 128)     147584    \n",
            "                                                                 \n",
            " block2_pool (MaxPooling2D)  (None, 56, 56, 128)       0         \n",
            "                                                                 \n",
            " block3_conv1 (Conv2D)       (None, 56, 56, 256)       295168    \n",
            "                                                                 \n",
            " block3_conv2 (Conv2D)       (None, 56, 56, 256)       590080    \n",
            "                                                                 \n",
            " block3_conv3 (Conv2D)       (None, 56, 56, 256)       590080    \n",
            "                                                                 \n",
            " block3_pool (MaxPooling2D)  (None, 28, 28, 256)       0         \n",
            "                                                                 \n",
            " block4_conv1 (Conv2D)       (None, 28, 28, 512)       1180160   \n",
            "                                                                 \n",
            " block4_conv2 (Conv2D)       (None, 28, 28, 512)       2359808   \n",
            "                                                                 \n",
            " block4_conv3 (Conv2D)       (None, 28, 28, 512)       2359808   \n",
            "                                                                 \n",
            " block4_pool (MaxPooling2D)  (None, 14, 14, 512)       0         \n",
            "                                                                 \n",
            " block5_conv1 (Conv2D)       (None, 14, 14, 512)       2359808   \n",
            "                                                                 \n",
            " block5_conv2 (Conv2D)       (None, 14, 14, 512)       2359808   \n",
            "                                                                 \n",
            " block5_conv3 (Conv2D)       (None, 14, 14, 512)       2359808   \n",
            "                                                                 \n",
            " block5_pool (MaxPooling2D)  (None, 7, 7, 512)         0         \n",
            "                                                                 \n",
            " flatten_2 (Flatten)         (None, 25088)             0         \n",
            "                                                                 \n",
            " dense_7 (Dense)             (None, 16)                401424    \n",
            "                                                                 \n",
            "=================================================================\n",
            "Total params: 15,116,112\n",
            "Trainable params: 401,424\n",
            "Non-trainable params: 14,714,688\n",
            "_________________________________________________________________\n"
          ]
        }
      ],
      "source": [
        "model.summary()"
      ]
    },
    {
      "cell_type": "code",
      "execution_count": 50,
      "id": "9d7274a3",
      "metadata": {
        "id": "9d7274a3"
      },
      "outputs": [],
      "source": [
        "model.compile(\n",
        "  loss='sparse_categorical_crossentropy',\n",
        "  optimizer='adam',\n",
        "  metrics=['accuracy']\n",
        ")"
      ]
    },
    {
      "cell_type": "code",
      "execution_count": 51,
      "id": "4f80172c",
      "metadata": {
        "colab": {
          "base_uri": "https://localhost:8080/"
        },
        "id": "4f80172c",
        "outputId": "660c8d09-19dc-4805-8fe1-e3628f61f70d"
      },
      "outputs": [
        {
          "output_type": "stream",
          "name": "stderr",
          "text": [
            "/usr/local/lib/python3.7/dist-packages/tensorflow/python/data/ops/dataset_ops.py:4527: UserWarning: Even though the `tf.config.experimental_run_functions_eagerly` option is set, this option does not apply to tf.data functions. To force eager execution of tf.data functions, please use `tf.data.experimental.enable_debug_mode()`.\n",
            "  \"Even though the `tf.config.experimental_run_functions_eagerly` \"\n"
          ]
        },
        {
          "output_type": "stream",
          "name": "stdout",
          "text": [
            "Epoch 1/10\n",
            "7/7 [==============================] - 284s 40s/step - loss: 4.3137 - accuracy: 0.0495 - val_loss: 3.5531 - val_accuracy: 0.0435\n",
            "Epoch 2/10\n",
            "7/7 [==============================] - 297s 42s/step - loss: 1.5863 - accuracy: 0.5792 - val_loss: 4.9997 - val_accuracy: 0.0000e+00\n",
            "Epoch 3/10\n",
            "7/7 [==============================] - 296s 42s/step - loss: 0.7066 - accuracy: 0.8218 - val_loss: 4.0727 - val_accuracy: 0.0435\n",
            "Epoch 4/10\n",
            "7/7 [==============================] - 297s 42s/step - loss: 0.3089 - accuracy: 0.9257 - val_loss: 4.0695 - val_accuracy: 0.0435\n",
            "Epoch 5/10\n",
            "7/7 [==============================] - 294s 41s/step - loss: 0.1262 - accuracy: 0.9851 - val_loss: 5.2963 - val_accuracy: 0.0000e+00\n",
            "Epoch 6/10\n",
            "7/7 [==============================] - 296s 42s/step - loss: 0.0873 - accuracy: 0.9851 - val_loss: 4.8106 - val_accuracy: 0.0000e+00\n",
            "Epoch 7/10\n",
            "7/7 [==============================] - 299s 42s/step - loss: 0.0503 - accuracy: 0.9950 - val_loss: 4.7057 - val_accuracy: 0.0000e+00\n",
            "Epoch 8/10\n",
            "7/7 [==============================] - 297s 42s/step - loss: 0.0226 - accuracy: 1.0000 - val_loss: 4.8610 - val_accuracy: 0.0435\n",
            "Epoch 9/10\n",
            "7/7 [==============================] - 295s 42s/step - loss: 0.0168 - accuracy: 1.0000 - val_loss: 4.9373 - val_accuracy: 0.0000e+00\n",
            "Epoch 10/10\n",
            "7/7 [==============================] - 293s 41s/step - loss: 0.0137 - accuracy: 1.0000 - val_loss: 4.8430 - val_accuracy: 0.0000e+00\n"
          ]
        }
      ],
      "source": [
        "vgg16_model = model.fit(np.array(X_train), np.array(y_train), batch_size=32, epochs=10, validation_split=0.1)"
      ]
    },
    {
      "cell_type": "code",
      "execution_count": 52,
      "id": "6711539c",
      "metadata": {
        "colab": {
          "base_uri": "https://localhost:8080/"
        },
        "id": "6711539c",
        "outputId": "852f4eb3-45be-42d2-ee10-beaa485e3f5b"
      },
      "outputs": [
        {
          "output_type": "stream",
          "name": "stderr",
          "text": [
            "/usr/local/lib/python3.7/dist-packages/tensorflow/python/data/ops/dataset_ops.py:4527: UserWarning: Even though the `tf.config.experimental_run_functions_eagerly` option is set, this option does not apply to tf.data functions. To force eager execution of tf.data functions, please use `tf.data.experimental.enable_debug_mode()`.\n",
            "  \"Even though the `tf.config.experimental_run_functions_eagerly` \"\n"
          ]
        },
        {
          "output_type": "stream",
          "name": "stdout",
          "text": [
            "5/5 [==============================] - 69s 14s/step - loss: 4.1294 - accuracy: 0.0533\n"
          ]
        },
        {
          "output_type": "execute_result",
          "data": {
            "text/plain": [
              "[4.129373550415039, 0.0533333346247673]"
            ]
          },
          "metadata": {},
          "execution_count": 52
        }
      ],
      "source": [
        "model.evaluate(X_test, y_test)"
      ]
    },
    {
      "cell_type": "code",
      "source": [
        ""
      ],
      "metadata": {
        "id": "du4758FyDMA7"
      },
      "id": "du4758FyDMA7",
      "execution_count": null,
      "outputs": []
    }
  ],
  "metadata": {
    "kernelspec": {
      "display_name": "Python 3",
      "language": "python",
      "name": "python3"
    },
    "language_info": {
      "codemirror_mode": {
        "name": "ipython",
        "version": 3
      },
      "file_extension": ".py",
      "mimetype": "text/x-python",
      "name": "python",
      "nbconvert_exporter": "python",
      "pygments_lexer": "ipython3",
      "version": "3.9.2"
    },
    "colab": {
      "name": "7D_18F-0128_18F-0124_As #05.ipynb",
      "provenance": []
    }
  },
  "nbformat": 4,
  "nbformat_minor": 5
}