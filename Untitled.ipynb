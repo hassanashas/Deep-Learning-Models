{
 "cells": [
  {
   "cell_type": "code",
   "execution_count": 23,
   "id": "4c22a6c8",
   "metadata": {},
   "outputs": [],
   "source": [
    "import numpy as np\n",
    "import matplotlib.pyplot as plt \n",
    "import os\n",
    "import cv2\n",
    "import random \n",
    "import tensorflow as tf \n",
    "from tensorflow.keras.models import Sequential\n",
    "from tensorflow.keras.layers import Dense, Dropout, Activation, Flatten, Conv2D, MaxPooling2D"
   ]
  },
  {
   "cell_type": "code",
   "execution_count": 24,
   "id": "42df0b37",
   "metadata": {},
   "outputs": [
    {
     "name": "stdout",
     "output_type": "stream",
     "text": [
      "['airplanes', 'buddha', 'chair', 'dolphin', 'elephant', 'Faces', 'grand_piano', 'lobster', 'Motorbikes', 'octopus', 'panda', 'rhino', 'snoopy', 'strawberry', 'water_lilly']\n"
     ]
    }
   ],
   "source": [
    "f = open(\"class_names.txt\", \"r\")\n",
    "labels = []\n",
    "for x in f:\n",
    "    labels.append(x.rstrip(\"\\n\"))\n",
    "print(labels)"
   ]
  },
  {
   "cell_type": "code",
   "execution_count": 25,
   "id": "0c8aa979",
   "metadata": {},
   "outputs": [],
   "source": [
    "f = open(\"train_labels.txt\", \"r\")\n",
    "train_labels = []\n",
    "for x in f:\n",
    "    train_labels.append(x.rstrip(\"\\n\"))\n"
   ]
  },
  {
   "cell_type": "code",
   "execution_count": 26,
   "id": "d149f08c",
   "metadata": {
    "scrolled": false
   },
   "outputs": [],
   "source": [
    "\n",
    "def create_training_data():\n",
    "    training_data = []\n",
    "    datadir = \"training_set/\"\n",
    "    for img, label in zip(os.listdir(datadir), train_labels):\n",
    "        try:\n",
    "            img_array = cv2.imread(os.path.join(datadir, img), cv2.IMREAD_GRAYSCALE)\n",
    "            new_array = cv2.resize(img_array, (50, 50))\n",
    "            training_data.append([new_array, label])\n",
    "        except Exception as e:\n",
    "            pass\n",
    "        #print(labels[int(label)-1])\n",
    "        #plt.imshow(img_array, cmap=\"gray\")\n",
    "        #plt.show()\n",
    "    return training_data\n",
    "training_data = create_training_data()\n"
   ]
  },
  {
   "cell_type": "code",
   "execution_count": 27,
   "id": "5718d420",
   "metadata": {},
   "outputs": [
    {
     "name": "stdout",
     "output_type": "stream",
     "text": [
      "224\n"
     ]
    }
   ],
   "source": [
    "print(len(training_data))"
   ]
  },
  {
   "cell_type": "code",
   "execution_count": 28,
   "id": "8c37a60f",
   "metadata": {},
   "outputs": [],
   "source": [
    "import random \n",
    "\n",
    "random.shuffle(training_data)"
   ]
  },
  {
   "cell_type": "code",
   "execution_count": 29,
   "id": "1befaac2",
   "metadata": {},
   "outputs": [],
   "source": [
    "X_train = []\n",
    "y_train = []"
   ]
  },
  {
   "cell_type": "code",
   "execution_count": 30,
   "id": "2032767a",
   "metadata": {},
   "outputs": [],
   "source": [
    "for features, labels in training_data:\n",
    "    X_train.append(features)\n",
    "    y_train.append(labels)\n",
    "\n",
    "X_train = np.array(X_train).reshape(-1, 50, 50, 1)\n",
    "y_train = np.array(y_train)\n",
    "y_train = y_train.astype(int)"
   ]
  },
  {
   "cell_type": "code",
   "execution_count": 31,
   "id": "827ff862",
   "metadata": {},
   "outputs": [
    {
     "data": {
      "text/plain": [
       "((224, 50, 50, 1), (224,))"
      ]
     },
     "execution_count": 31,
     "metadata": {},
     "output_type": "execute_result"
    }
   ],
   "source": [
    "X_train.shape, y_train.shape"
   ]
  },
  {
   "cell_type": "code",
   "execution_count": 32,
   "id": "3efe2d2c",
   "metadata": {},
   "outputs": [],
   "source": [
    "X_train = X_train/255.0\n",
    "model = Sequential()\n",
    "\n",
    "model.add(Conv2D(64, (3, 3), input_shape = X_train.shape[1:]))\n",
    "model.add(Activation(\"relu\"))\n",
    "model.add(MaxPooling2D(pool_size=(2, 2)))\n",
    "\n",
    "model.add(Conv2D(128, (3, 3)))\n",
    "model.add(Activation(\"relu\"))\n",
    "model.add(MaxPooling2D(pool_size=(2, 2)))\n",
    "\n",
    "model.add(Flatten())\n",
    "model.add(Dense(64))\n",
    "\n",
    "model.add(Dense(16))\n",
    "model.add(Activation('softmax'))\n"
   ]
  },
  {
   "cell_type": "code",
   "execution_count": 17,
   "id": "ec681e58",
   "metadata": {},
   "outputs": [],
   "source": [
    "from tensorflow.keras.optimizers import SGD\n",
    "\n",
    "model.compile(loss='sparse_categorical_crossentropy', \n",
    "             optimizer=SGD(learning_rate=0.01), \n",
    "             metrics=['accuracy'])"
   ]
  },
  {
   "cell_type": "code",
   "execution_count": 18,
   "id": "6ae0975f",
   "metadata": {},
   "outputs": [
    {
     "name": "stdout",
     "output_type": "stream",
     "text": [
      "Epoch 1/30\n",
      "7/7 [==============================] - 1s 165ms/step - loss: 2.7726 - accuracy: 0.0448 - val_loss: 2.7713 - val_accuracy: 0.0870\n",
      "Epoch 2/30\n",
      "7/7 [==============================] - 1s 128ms/step - loss: 2.7715 - accuracy: 0.0647 - val_loss: 2.7708 - val_accuracy: 0.0870\n",
      "Epoch 3/30\n",
      "7/7 [==============================] - 1s 131ms/step - loss: 2.7700 - accuracy: 0.0547 - val_loss: 2.7708 - val_accuracy: 0.0435\n",
      "Epoch 4/30\n",
      "7/7 [==============================] - 1s 135ms/step - loss: 2.7687 - accuracy: 0.0547 - val_loss: 2.7708 - val_accuracy: 0.0870\n",
      "Epoch 5/30\n",
      "7/7 [==============================] - 1s 135ms/step - loss: 2.7675 - accuracy: 0.0498 - val_loss: 2.7705 - val_accuracy: 0.0870\n",
      "Epoch 6/30\n",
      "7/7 [==============================] - 1s 130ms/step - loss: 2.7664 - accuracy: 0.0597 - val_loss: 2.7696 - val_accuracy: 0.0870\n",
      "Epoch 7/30\n",
      "7/7 [==============================] - 1s 132ms/step - loss: 2.7652 - accuracy: 0.0647 - val_loss: 2.7695 - val_accuracy: 0.0870\n",
      "Epoch 8/30\n",
      "7/7 [==============================] - 1s 147ms/step - loss: 2.7640 - accuracy: 0.0597 - val_loss: 2.7692 - val_accuracy: 0.0000e+00\n",
      "Epoch 9/30\n",
      "7/7 [==============================] - 1s 139ms/step - loss: 2.7627 - accuracy: 0.0697 - val_loss: 2.7693 - val_accuracy: 0.0000e+00\n",
      "Epoch 10/30\n",
      "7/7 [==============================] - 1s 133ms/step - loss: 2.7613 - accuracy: 0.0746 - val_loss: 2.7699 - val_accuracy: 0.0000e+00\n",
      "Epoch 11/30\n",
      "7/7 [==============================] - 1s 131ms/step - loss: 2.7598 - accuracy: 0.0697 - val_loss: 2.7700 - val_accuracy: 0.0000e+00\n",
      "Epoch 12/30\n",
      "7/7 [==============================] - 1s 135ms/step - loss: 2.7585 - accuracy: 0.0746 - val_loss: 2.7698 - val_accuracy: 0.0870\n",
      "Epoch 13/30\n",
      "7/7 [==============================] - 1s 135ms/step - loss: 2.7573 - accuracy: 0.0647 - val_loss: 2.7701 - val_accuracy: 0.0870\n",
      "Epoch 14/30\n",
      "7/7 [==============================] - 1s 134ms/step - loss: 2.7559 - accuracy: 0.0597 - val_loss: 2.7702 - val_accuracy: 0.0870\n",
      "Epoch 15/30\n",
      "7/7 [==============================] - 1s 132ms/step - loss: 2.7548 - accuracy: 0.0647 - val_loss: 2.7702 - val_accuracy: 0.0870\n",
      "Epoch 16/30\n",
      "7/7 [==============================] - 1s 133ms/step - loss: 2.7529 - accuracy: 0.0647 - val_loss: 2.7702 - val_accuracy: 0.0870\n",
      "Epoch 17/30\n",
      "7/7 [==============================] - 1s 144ms/step - loss: 2.7516 - accuracy: 0.0647 - val_loss: 2.7700 - val_accuracy: 0.0870\n",
      "Epoch 18/30\n",
      "7/7 [==============================] - 1s 133ms/step - loss: 2.7505 - accuracy: 0.0348 - val_loss: 2.7704 - val_accuracy: 0.0870\n",
      "Epoch 19/30\n",
      "7/7 [==============================] - 1s 132ms/step - loss: 2.7491 - accuracy: 0.0647 - val_loss: 2.7708 - val_accuracy: 0.0870\n",
      "Epoch 20/30\n",
      "7/7 [==============================] - 1s 130ms/step - loss: 2.7476 - accuracy: 0.0647 - val_loss: 2.7703 - val_accuracy: 0.0870\n",
      "Epoch 21/30\n",
      "7/7 [==============================] - 1s 142ms/step - loss: 2.7467 - accuracy: 0.0647 - val_loss: 2.7710 - val_accuracy: 0.0870\n",
      "Epoch 22/30\n",
      "7/7 [==============================] - 1s 131ms/step - loss: 2.7456 - accuracy: 0.0647 - val_loss: 2.7726 - val_accuracy: 0.0870\n",
      "Epoch 23/30\n",
      "7/7 [==============================] - 1s 135ms/step - loss: 2.7442 - accuracy: 0.0647 - val_loss: 2.7724 - val_accuracy: 0.0870\n",
      "Epoch 24/30\n",
      "7/7 [==============================] - 1s 147ms/step - loss: 2.7429 - accuracy: 0.0647 - val_loss: 2.7734 - val_accuracy: 0.0870\n",
      "Epoch 25/30\n",
      "7/7 [==============================] - 1s 142ms/step - loss: 2.7420 - accuracy: 0.0647 - val_loss: 2.7713 - val_accuracy: 0.0870\n",
      "Epoch 26/30\n",
      "7/7 [==============================] - 1s 126ms/step - loss: 2.7410 - accuracy: 0.0647 - val_loss: 2.7730 - val_accuracy: 0.0870\n",
      "Epoch 27/30\n",
      "7/7 [==============================] - 1s 133ms/step - loss: 2.7401 - accuracy: 0.0647 - val_loss: 2.7733 - val_accuracy: 0.0870\n",
      "Epoch 28/30\n",
      "7/7 [==============================] - 1s 131ms/step - loss: 2.7387 - accuracy: 0.0448 - val_loss: 2.7741 - val_accuracy: 0.0870\n",
      "Epoch 29/30\n",
      "7/7 [==============================] - 1s 137ms/step - loss: 2.7375 - accuracy: 0.0647 - val_loss: 2.7744 - val_accuracy: 0.0000e+00\n",
      "Epoch 30/30\n",
      "7/7 [==============================] - 1s 130ms/step - loss: 2.7365 - accuracy: 0.0348 - val_loss: 2.7773 - val_accuracy: 0.0000e+00\n"
     ]
    }
   ],
   "source": [
    "model_fit = model.fit(X_train, y_train, batch_size=32, epochs=30, validation_split=0.1)"
   ]
  },
  {
   "cell_type": "code",
   "execution_count": 33,
   "id": "54c8cc24",
   "metadata": {},
   "outputs": [],
   "source": [
    "f = open(\"test_labels.txt\", \"r\")\n",
    "test_labels = []\n",
    "for x in f:\n",
    "    test_labels.append(x.rstrip(\"\\n\"))"
   ]
  },
  {
   "cell_type": "code",
   "execution_count": 34,
   "id": "0137f85e",
   "metadata": {},
   "outputs": [],
   "source": [
    "\n",
    "def create_testing_data():\n",
    "    testing_data = []\n",
    "    datadir = \"test_set/\"\n",
    "    for img, label in zip(os.listdir(datadir), test_labels):\n",
    "        try:\n",
    "            img_array = cv2.imread(os.path.join(datadir, img), cv2.IMREAD_GRAYSCALE)\n",
    "            new_array = cv2.resize(img_array, (50, 50))\n",
    "            testing_data.append([new_array, label])\n",
    "        except Exception as e:\n",
    "            pass\n",
    "        #print(labels[int(label)-1])\n",
    "        #plt.imshow(img_array, cmap=\"gray\")\n",
    "        #plt.show()        \n",
    "    return testing_data\n",
    "testing_data = create_testing_data()\n"
   ]
  },
  {
   "cell_type": "code",
   "execution_count": 21,
   "id": "c217510b",
   "metadata": {},
   "outputs": [
    {
     "name": "stdout",
     "output_type": "stream",
     "text": [
      "149\n"
     ]
    }
   ],
   "source": [
    "print(len(testing_data))"
   ]
  },
  {
   "cell_type": "code",
   "execution_count": 22,
   "id": "84d658c6",
   "metadata": {},
   "outputs": [],
   "source": [
    "X_test = []\n",
    "y_test = []\n",
    "for features, labels in testing_data:\n",
    "    X_test.append(features)\n",
    "    y_test.append(labels)\n",
    "\n",
    "X_test = np.array(X_test).reshape(-1, 50, 50, 1)\n",
    "y_test = np.array(y_test)\n",
    "y_test = y_test.astype(int)"
   ]
  },
  {
   "cell_type": "code",
   "execution_count": 26,
   "id": "05f04863",
   "metadata": {},
   "outputs": [],
   "source": [
    "X_test = X_test / 255.0"
   ]
  },
  {
   "cell_type": "code",
   "execution_count": 27,
   "id": "85309363",
   "metadata": {},
   "outputs": [
    {
     "data": {
      "text/plain": [
       "((149, 50, 50, 1), (149,))"
      ]
     },
     "execution_count": 27,
     "metadata": {},
     "output_type": "execute_result"
    }
   ],
   "source": [
    "X_test.shape, y_test.shape"
   ]
  },
  {
   "cell_type": "code",
   "execution_count": 28,
   "id": "5a4eec55",
   "metadata": {},
   "outputs": [
    {
     "name": "stdout",
     "output_type": "stream",
     "text": [
      "5/5 [==============================] - 0s 43ms/step - loss: 2.7379 - accuracy: 0.0671\n"
     ]
    },
    {
     "data": {
      "text/plain": [
       "[2.7379150390625, 0.06711409240961075]"
      ]
     },
     "execution_count": 28,
     "metadata": {},
     "output_type": "execute_result"
    }
   ],
   "source": [
    "model.evaluate(X_test, y_test)"
   ]
  },
  {
   "cell_type": "markdown",
   "id": "929df246",
   "metadata": {},
   "source": [
    "## AlexNet CNN "
   ]
  },
  {
   "cell_type": "code",
   "execution_count": 29,
   "id": "fc40b921",
   "metadata": {},
   "outputs": [],
   "source": [
    "def create_training_data():\n",
    "    training_data = []\n",
    "    datadir = \"training_set/\"\n",
    "    for img, label in zip(os.listdir(datadir), train_labels):\n",
    "        try:\n",
    "            img_array = cv2.imread(os.path.join(datadir, img))\n",
    "            new_array = cv2.resize(img_array, (227, 227))\n",
    "            training_data.append([new_array, label])\n",
    "        except Exception as e:\n",
    "            pass\n",
    "        #print(labels[int(label)-1])\n",
    "        #plt.imshow(img_array, cmap=\"gray\")\n",
    "        #plt.show()\n",
    "    return training_data\n",
    "training_data = create_training_data()\n"
   ]
  },
  {
   "cell_type": "code",
   "execution_count": 30,
   "id": "dad5c6ad",
   "metadata": {},
   "outputs": [],
   "source": [
    "random.shuffle(training_data)\n",
    "\n",
    "X_train = []\n",
    "y_train = []\n",
    "\n",
    "for features, labels in training_data:\n",
    "    X_train.append(features)\n",
    "    y_train.append(labels)\n",
    "\n",
    "X_train = np.array(X_train).reshape(-1, 227, 227, 3)\n",
    "y_train = np.array(y_train)\n",
    "y_train = y_train.astype(int)\n",
    "X_train = X_train/255.0"
   ]
  },
  {
   "cell_type": "code",
   "execution_count": 31,
   "id": "29b01589",
   "metadata": {},
   "outputs": [],
   "source": [
    "def create_testing_data():\n",
    "    testing_data = []\n",
    "    datadir = \"test_set/\"\n",
    "    for img, label in zip(os.listdir(datadir), test_labels):\n",
    "        try:\n",
    "            img_array = cv2.imread(os.path.join(datadir, img))\n",
    "            new_array = cv2.resize(img_array, (227, 227))\n",
    "            testing_data.append([new_array, label])\n",
    "        except Exception as e:\n",
    "            pass\n",
    "    \n",
    "    X_test = []\n",
    "    y_test = []\n",
    "    for features, labels in testing_data:\n",
    "        X_test.append(features)\n",
    "        y_test.append(labels)\n",
    "\n",
    "    X_test = np.array(X_test).reshape(-1, 227, 227, 3)\n",
    "    y_test = np.array(y_test)\n",
    "    y_test = y_test.astype(int)\n",
    "    \n",
    "    return X_test, y_test\n",
    "\n",
    "X_test, y_test = create_testing_data()\n",
    "X_test = X_test / 255.0\n"
   ]
  },
  {
   "cell_type": "code",
   "execution_count": 32,
   "id": "eea09b27",
   "metadata": {},
   "outputs": [],
   "source": [
    "from tensorflow.keras.layers import BatchNormalization"
   ]
  },
  {
   "cell_type": "code",
   "execution_count": 33,
   "id": "e7feb3a3",
   "metadata": {},
   "outputs": [],
   "source": [
    "image_shape = (227, 227, 3)\n",
    "\n",
    "# (3) Create a sequential model\n",
    "model = Sequential()\n",
    "\n",
    "# 1st Convolutional Layer\n",
    "model.add(Conv2D(filters=96, input_shape=(227,227,3), kernel_size=(11,11),\\\n",
    " strides=(4,4), padding='valid'))\n",
    "model.add(Activation('relu'))\n",
    "# Pooling \n",
    "model.add(MaxPooling2D(pool_size=(2,2), strides=(2,2), padding='valid'))\n",
    "# Batch Normalisation before passing it to the next layer\n",
    "model.add(BatchNormalization())\n",
    "\n",
    "# 2nd Convolutional Layer\n",
    "model.add(Conv2D(filters=256, kernel_size=(11,11), strides=(1,1), padding='valid'))\n",
    "model.add(Activation('relu'))\n",
    "# Pooling\n",
    "model.add(MaxPooling2D(pool_size=(2,2), strides=(2,2), padding='valid'))\n",
    "# Batch Normalisation\n",
    "model.add(BatchNormalization())\n",
    "\n",
    "# 3rd Convolutional Layer\n",
    "model.add(Conv2D(filters=384, kernel_size=(3,3), strides=(1,1), padding='valid'))\n",
    "model.add(Activation('relu'))\n",
    "# Batch Normalisation\n",
    "model.add(BatchNormalization())\n",
    "\n",
    "# 4th Convolutional Layer\n",
    "model.add(Conv2D(filters=384, kernel_size=(3,3), strides=(1,1), padding='valid'))\n",
    "model.add(Activation('relu'))\n",
    "# Batch Normalisation\n",
    "model.add(BatchNormalization())\n",
    "\n",
    "# 5th Convolutional Layer\n",
    "model.add(Conv2D(filters=256, kernel_size=(3,3), strides=(1,1), padding='valid'))\n",
    "model.add(Activation('relu'))\n",
    "# Pooling\n",
    "model.add(MaxPooling2D(pool_size=(2,2), strides=(2,2), padding='valid'))\n",
    "# Batch Normalisation\n",
    "model.add(BatchNormalization())\n",
    "\n",
    "# Passing it to a dense layer\n",
    "model.add(Flatten())\n",
    "# 1st Dense Layer\n",
    "model.add(Dense(4096, input_shape=(224*224*3,)))\n",
    "model.add(Activation('relu'))\n",
    "# Add Dropout to prevent overfitting\n",
    "model.add(Dropout(0.4))\n",
    "# Batch Normalisation\n",
    "model.add(BatchNormalization())\n",
    "\n",
    "# 2nd Dense Layer\n",
    "model.add(Dense(4096))\n",
    "model.add(Activation('relu'))\n",
    "# Add Dropout\n",
    "model.add(Dropout(0.4))\n",
    "# Batch Normalisation\n",
    "model.add(BatchNormalization())\n",
    "\n",
    "# 3rd Dense Layer\n",
    "model.add(Dense(1000))\n",
    "model.add(Activation('relu'))\n",
    "# Add Dropout\n",
    "model.add(Dropout(0.4))\n",
    "# Batch Normalisation\n",
    "model.add(BatchNormalization())\n",
    "\n",
    "# Output Layer\n",
    "model.add(Dense(16))\n",
    "model.add(Activation('softmax'))\n",
    "\n",
    "#model.summary()\n",
    "\n",
    "model.compile(loss='sparse_categorical_crossentropy', optimizer='adam', metrics=['accuracy'])"
   ]
  },
  {
   "cell_type": "code",
   "execution_count": 34,
   "id": "217253d7",
   "metadata": {},
   "outputs": [],
   "source": [
    "tf.config.run_functions_eagerly(True)"
   ]
  },
  {
   "cell_type": "code",
   "execution_count": 35,
   "id": "1767422f",
   "metadata": {
    "scrolled": false
   },
   "outputs": [
    {
     "name": "stderr",
     "output_type": "stream",
     "text": [
      "c:\\users\\hassan ashas\\appdata\\local\\programs\\python\\python39\\lib\\site-packages\\tensorflow\\python\\data\\ops\\dataset_ops.py:4526: UserWarning: Even though the `tf.config.experimental_run_functions_eagerly` option is set, this option does not apply to tf.data functions. To force eager execution of tf.data functions, please use `tf.data.experimental.enable_debug_mode()`.\n",
      "  warnings.warn(\n"
     ]
    },
    {
     "name": "stdout",
     "output_type": "stream",
     "text": [
      "Epoch 1/15\n",
      "7/7 [==============================] - 19s 3s/step - loss: 3.3578 - accuracy: 0.1692 - val_loss: 25.9356 - val_accuracy: 0.0435\n",
      "Epoch 2/15\n",
      "7/7 [==============================] - 28s 4s/step - loss: 3.1607 - accuracy: 0.2836 - val_loss: 134.5623 - val_accuracy: 0.0435\n",
      "Epoch 3/15\n",
      "7/7 [==============================] - 21s 3s/step - loss: 2.6362 - accuracy: 0.3085 - val_loss: 278.0068 - val_accuracy: 0.0435\n",
      "Epoch 4/15\n",
      "7/7 [==============================] - 19s 3s/step - loss: 2.4476 - accuracy: 0.2935 - val_loss: 328.9818 - val_accuracy: 0.0435\n",
      "Epoch 5/15\n",
      "7/7 [==============================] - 18s 3s/step - loss: 2.5154 - accuracy: 0.2687 - val_loss: 267.2029 - val_accuracy: 0.0435\n",
      "Epoch 6/15\n",
      "7/7 [==============================] - 22s 3s/step - loss: 2.2144 - accuracy: 0.3284 - val_loss: 187.3911 - val_accuracy: 0.0435\n",
      "Epoch 7/15\n",
      "7/7 [==============================] - 26s 4s/step - loss: 2.1263 - accuracy: 0.3831 - val_loss: 189.6236 - val_accuracy: 0.0435\n",
      "Epoch 8/15\n",
      "7/7 [==============================] - 25s 4s/step - loss: 2.0620 - accuracy: 0.3831 - val_loss: 102.6322 - val_accuracy: 0.0435\n",
      "Epoch 9/15\n",
      "7/7 [==============================] - 22s 3s/step - loss: 1.9585 - accuracy: 0.4080 - val_loss: 65.7292 - val_accuracy: 0.0435\n",
      "Epoch 10/15\n",
      "7/7 [==============================] - 25s 3s/step - loss: 1.8086 - accuracy: 0.4179 - val_loss: 50.0483 - val_accuracy: 0.0435\n",
      "Epoch 11/15\n",
      "7/7 [==============================] - 18s 2s/step - loss: 1.7647 - accuracy: 0.4577 - val_loss: 35.4551 - val_accuracy: 0.0435\n",
      "Epoch 12/15\n",
      "7/7 [==============================] - 19s 3s/step - loss: 1.7662 - accuracy: 0.4478 - val_loss: 24.6716 - val_accuracy: 0.0435\n",
      "Epoch 13/15\n",
      "7/7 [==============================] - 19s 3s/step - loss: 1.7087 - accuracy: 0.4726 - val_loss: 18.5172 - val_accuracy: 0.0435\n",
      "Epoch 14/15\n",
      "7/7 [==============================] - 18s 3s/step - loss: 1.5654 - accuracy: 0.5025 - val_loss: 26.9100 - val_accuracy: 0.0435\n",
      "Epoch 15/15\n",
      "7/7 [==============================] - 18s 2s/step - loss: 1.3302 - accuracy: 0.5274 - val_loss: 18.7189 - val_accuracy: 0.0435\n"
     ]
    }
   ],
   "source": [
    "alex_net = model.fit(np.array(X_train), np.array(y_train), batch_size=32, epochs=15, validation_split=0.1)"
   ]
  },
  {
   "cell_type": "code",
   "execution_count": 36,
   "id": "d22c7790",
   "metadata": {},
   "outputs": [
    {
     "name": "stdout",
     "output_type": "stream",
     "text": [
      "5/5 [==============================] - 3s 537ms/step - loss: 15.7170 - accuracy: 0.1409\n"
     ]
    },
    {
     "data": {
      "text/plain": [
       "[15.717004776000977, 0.1409395933151245]"
      ]
     },
     "execution_count": 36,
     "metadata": {},
     "output_type": "execute_result"
    }
   ],
   "source": [
    "model.evaluate(X_test, y_test)"
   ]
  },
  {
   "cell_type": "markdown",
   "id": "18602f65",
   "metadata": {},
   "source": [
    "## VGGNet CNN"
   ]
  },
  {
   "cell_type": "code",
   "execution_count": 35,
   "id": "c9fc6d9e",
   "metadata": {},
   "outputs": [],
   "source": [
    "from tensorflow.keras.layers import Input, Lambda, Dense, Flatten\n",
    "from tensorflow.keras.models import Model\n",
    "from tensorflow.keras.applications.vgg16 import VGG16\n",
    "from tensorflow.keras.applications.vgg19 import VGG19\n",
    "from tensorflow.keras.preprocessing import image\n",
    "from tensorflow.keras.preprocessing.image import ImageDataGenerator,load_img\n",
    "from tensorflow.keras.models import Sequential\n",
    "import numpy as np\n",
    "from glob import glob"
   ]
  },
  {
   "cell_type": "code",
   "execution_count": 36,
   "id": "6dee809a",
   "metadata": {},
   "outputs": [],
   "source": [
    "def create_training_data():\n",
    "    training_data = []\n",
    "    datadir = \"training_set/\"\n",
    "    for img, label in zip(os.listdir(datadir), train_labels):\n",
    "        try:\n",
    "            img_array = cv2.imread(os.path.join(datadir, img))\n",
    "            new_array = cv2.resize(img_array, (224, 224))\n",
    "            training_data.append([new_array, label])\n",
    "        except Exception as e:\n",
    "            pass\n",
    "        #print(labels[int(label)-1])\n",
    "        #plt.imshow(img_array, cmap=\"gray\")\n",
    "        #plt.show()\n",
    "    return training_data\n",
    "training_data = create_training_data()\n"
   ]
  },
  {
   "cell_type": "code",
   "execution_count": 37,
   "id": "f1fb86de",
   "metadata": {},
   "outputs": [],
   "source": [
    "random.shuffle(training_data)\n",
    "\n",
    "X_train = []\n",
    "y_train = []\n",
    "\n",
    "for features, labels in training_data:\n",
    "    X_train.append(features)\n",
    "    y_train.append(labels)\n",
    "\n",
    "X_train = np.array(X_train).reshape(-1, 224, 224, 3)\n",
    "y_train = np.array(y_train)\n",
    "y_train = y_train.astype(int)\n",
    "X_train = X_train/255.0"
   ]
  },
  {
   "cell_type": "code",
   "execution_count": 38,
   "id": "6f3876e3",
   "metadata": {},
   "outputs": [],
   "source": [
    "def create_testing_data():\n",
    "    testing_data = []\n",
    "    datadir = \"test_set/\"\n",
    "    for img, label in zip(os.listdir(datadir), test_labels):\n",
    "        try:\n",
    "            img_array = cv2.imread(os.path.join(datadir, img))\n",
    "            new_array = cv2.resize(img_array, (224, 224))\n",
    "            testing_data.append([new_array, label])\n",
    "        except Exception as e:\n",
    "            pass\n",
    "    \n",
    "    X_test = []\n",
    "    y_test = []\n",
    "    for features, labels in testing_data:\n",
    "        X_test.append(features)\n",
    "        y_test.append(labels)\n",
    "\n",
    "    X_test = np.array(X_test).reshape(-1, 224, 224, 3)\n",
    "    y_test = np.array(y_test)\n",
    "    y_test = y_test.astype(int)\n",
    "    \n",
    "    return X_test, y_test\n",
    "\n",
    "X_test, y_test = create_testing_data()\n",
    "X_test = X_test / 255.0\n"
   ]
  },
  {
   "cell_type": "code",
   "execution_count": 39,
   "id": "72dfbf70",
   "metadata": {},
   "outputs": [
    {
     "data": {
      "text/plain": [
       "((224, 224, 224, 3), (149, 224, 224, 3), (224,), (149,))"
      ]
     },
     "execution_count": 39,
     "metadata": {},
     "output_type": "execute_result"
    }
   ],
   "source": [
    "X_train.shape, X_test.shape, y_train.shape, y_test.shape"
   ]
  },
  {
   "cell_type": "code",
   "execution_count": 40,
   "id": "537309e8",
   "metadata": {},
   "outputs": [],
   "source": [
    "vgg16 = VGG16(input_shape=[224, 224] + [3], weights='imagenet', include_top=False)\n"
   ]
  },
  {
   "cell_type": "code",
   "execution_count": 41,
   "id": "490c49db",
   "metadata": {},
   "outputs": [],
   "source": [
    "for layer in vgg16.layers:\n",
    "    layer.trainable = False"
   ]
  },
  {
   "cell_type": "code",
   "execution_count": 42,
   "id": "8f6ab54a",
   "metadata": {},
   "outputs": [],
   "source": [
    "x = Flatten()(vgg16.output)"
   ]
  },
  {
   "cell_type": "code",
   "execution_count": 43,
   "id": "47f98cbb",
   "metadata": {},
   "outputs": [],
   "source": [
    "prediction = Dense(15, activation='softmax')(x)"
   ]
  },
  {
   "cell_type": "code",
   "execution_count": 44,
   "id": "51d8178c",
   "metadata": {},
   "outputs": [],
   "source": [
    "model = Model(inputs=vgg16.input, outputs=prediction)"
   ]
  },
  {
   "cell_type": "code",
   "execution_count": 45,
   "id": "0e6be074",
   "metadata": {},
   "outputs": [
    {
     "name": "stdout",
     "output_type": "stream",
     "text": [
      "Model: \"model\"\n",
      "_________________________________________________________________\n",
      " Layer (type)                Output Shape              Param #   \n",
      "=================================================================\n",
      " input_2 (InputLayer)        [(None, 224, 224, 3)]     0         \n",
      "                                                                 \n",
      " block1_conv1 (Conv2D)       (None, 224, 224, 64)      1792      \n",
      "                                                                 \n",
      " block1_conv2 (Conv2D)       (None, 224, 224, 64)      36928     \n",
      "                                                                 \n",
      " block1_pool (MaxPooling2D)  (None, 112, 112, 64)      0         \n",
      "                                                                 \n",
      " block2_conv1 (Conv2D)       (None, 112, 112, 128)     73856     \n",
      "                                                                 \n",
      " block2_conv2 (Conv2D)       (None, 112, 112, 128)     147584    \n",
      "                                                                 \n",
      " block2_pool (MaxPooling2D)  (None, 56, 56, 128)       0         \n",
      "                                                                 \n",
      " block3_conv1 (Conv2D)       (None, 56, 56, 256)       295168    \n",
      "                                                                 \n",
      " block3_conv2 (Conv2D)       (None, 56, 56, 256)       590080    \n",
      "                                                                 \n",
      " block3_conv3 (Conv2D)       (None, 56, 56, 256)       590080    \n",
      "                                                                 \n",
      " block3_pool (MaxPooling2D)  (None, 28, 28, 256)       0         \n",
      "                                                                 \n",
      " block4_conv1 (Conv2D)       (None, 28, 28, 512)       1180160   \n",
      "                                                                 \n",
      " block4_conv2 (Conv2D)       (None, 28, 28, 512)       2359808   \n",
      "                                                                 \n",
      " block4_conv3 (Conv2D)       (None, 28, 28, 512)       2359808   \n",
      "                                                                 \n",
      " block4_pool (MaxPooling2D)  (None, 14, 14, 512)       0         \n",
      "                                                                 \n",
      " block5_conv1 (Conv2D)       (None, 14, 14, 512)       2359808   \n",
      "                                                                 \n",
      " block5_conv2 (Conv2D)       (None, 14, 14, 512)       2359808   \n",
      "                                                                 \n",
      " block5_conv3 (Conv2D)       (None, 14, 14, 512)       2359808   \n",
      "                                                                 \n",
      " block5_pool (MaxPooling2D)  (None, 7, 7, 512)         0         \n",
      "                                                                 \n",
      " flatten_1 (Flatten)         (None, 25088)             0         \n",
      "                                                                 \n",
      " dense_2 (Dense)             (None, 15)                376335    \n",
      "                                                                 \n",
      "=================================================================\n",
      "Total params: 15,091,023\n",
      "Trainable params: 376,335\n",
      "Non-trainable params: 14,714,688\n",
      "_________________________________________________________________\n"
     ]
    }
   ],
   "source": [
    "model.summary()"
   ]
  },
  {
   "cell_type": "code",
   "execution_count": 46,
   "id": "9d7274a3",
   "metadata": {},
   "outputs": [],
   "source": [
    "model.compile(\n",
    "  loss='sparse_categorical_crossentropy',\n",
    "  optimizer='adam',\n",
    "  metrics=['accuracy']\n",
    ")"
   ]
  },
  {
   "cell_type": "code",
   "execution_count": 1,
   "id": "4f80172c",
   "metadata": {},
   "outputs": [
    {
     "ename": "NameError",
     "evalue": "name 'model' is not defined",
     "output_type": "error",
     "traceback": [
      "\u001b[1;31m---------------------------------------------------------------------------\u001b[0m",
      "\u001b[1;31mNameError\u001b[0m                                 Traceback (most recent call last)",
      "\u001b[1;32m<ipython-input-1-618a68fadbe8>\u001b[0m in \u001b[0;36m<module>\u001b[1;34m\u001b[0m\n\u001b[1;32m----> 1\u001b[1;33m \u001b[0mvgg16_model\u001b[0m \u001b[1;33m=\u001b[0m \u001b[0mmodel\u001b[0m\u001b[1;33m.\u001b[0m\u001b[0mfit\u001b[0m\u001b[1;33m(\u001b[0m\u001b[0mnp\u001b[0m\u001b[1;33m.\u001b[0m\u001b[0marray\u001b[0m\u001b[1;33m(\u001b[0m\u001b[0mX_train\u001b[0m\u001b[1;33m)\u001b[0m\u001b[1;33m,\u001b[0m \u001b[0mnp\u001b[0m\u001b[1;33m.\u001b[0m\u001b[0marray\u001b[0m\u001b[1;33m(\u001b[0m\u001b[0my_train\u001b[0m\u001b[1;33m)\u001b[0m\u001b[1;33m,\u001b[0m \u001b[0mbatch_size\u001b[0m\u001b[1;33m=\u001b[0m\u001b[1;36m32\u001b[0m\u001b[1;33m,\u001b[0m \u001b[0mepochs\u001b[0m\u001b[1;33m=\u001b[0m\u001b[1;36m10\u001b[0m\u001b[1;33m,\u001b[0m \u001b[0mvalidation_split\u001b[0m\u001b[1;33m=\u001b[0m\u001b[1;36m0.1\u001b[0m\u001b[1;33m)\u001b[0m\u001b[1;33m\u001b[0m\u001b[1;33m\u001b[0m\u001b[0m\n\u001b[0m",
      "\u001b[1;31mNameError\u001b[0m: name 'model' is not defined"
     ]
    }
   ],
   "source": [
    "vgg16_model = model.fit(np.array(X_train), np.array(y_train), batch_size=32, epochs=10, validation_split=0.1)"
   ]
  },
  {
   "cell_type": "code",
   "execution_count": null,
   "id": "6711539c",
   "metadata": {},
   "outputs": [],
   "source": []
  }
 ],
 "metadata": {
  "kernelspec": {
   "display_name": "Python 3",
   "language": "python",
   "name": "python3"
  },
  "language_info": {
   "codemirror_mode": {
    "name": "ipython",
    "version": 3
   },
   "file_extension": ".py",
   "mimetype": "text/x-python",
   "name": "python",
   "nbconvert_exporter": "python",
   "pygments_lexer": "ipython3",
   "version": "3.9.2"
  }
 },
 "nbformat": 4,
 "nbformat_minor": 5
}
